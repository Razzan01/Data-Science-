{
  "nbformat": 4,
  "nbformat_minor": 0,
  "metadata": {
    "colab": {
      "provenance": [],
      "authorship_tag": "ABX9TyNh26hSMELODTAQIai9IvXd",
      "include_colab_link": true
    },
    "kernelspec": {
      "name": "python3",
      "display_name": "Python 3"
    },
    "language_info": {
      "name": "python"
    }
  },
  "cells": [
    {
      "cell_type": "markdown",
      "metadata": {
        "id": "view-in-github",
        "colab_type": "text"
      },
      "source": [
        "<a href=\"https://colab.research.google.com/github/Razzan01/Data-Science-/blob/main/Assignment_3.ipynb\" target=\"_parent\"><img src=\"https://colab.research.google.com/assets/colab-badge.svg\" alt=\"Open In Colab\"/></a>"
      ]
    },
    {
      "cell_type": "markdown",
      "source": [
        "RAZZAN HARITH MOHAMMED\n",
        "\n",
        "SCM221-0003/2021\n",
        "\n"
      ],
      "metadata": {
        "id": "Bl0f7JTd4bbO"
      }
    },
    {
      "cell_type": "markdown",
      "source": [
        "# **PROTEIN LEVEL IN VARIOUS TYPES OF FOODS PER COUNTRY**"
      ],
      "metadata": {
        "id": "L0deGJ5n5Ghx"
      }
    },
    {
      "cell_type": "markdown",
      "source": [
        "# **BUSINESS UNDERSTANDING**\n",
        "\n",
        "The primary objective is to analyze the protein content in various types of food for different countries which could help to provide insights that can inform product development, marketing strategies, and nutritional recommendations.\n",
        "\n",
        "This analysis aims to identify trends and patterns in protein content across different food categories in each country."
      ],
      "metadata": {
        "id": "7nc0CXH6D3vH"
      }
    },
    {
      "cell_type": "markdown",
      "source": [
        "# **DATA UNDERSTANDING**\n",
        "\n",
        "**DATA LOADING**"
      ],
      "metadata": {
        "id": "0N_rjrvl-PQZ"
      }
    },
    {
      "cell_type": "code",
      "source": [
        "#Importing Libraries\n",
        "import pandas as pd\n",
        "#Load the data into a DataFrame\n",
        "df = pd.read_csv('/content/protein.txt' , delimiter=\"\\t\")\n",
        "print(df)"
      ],
      "metadata": {
        "colab": {
          "base_uri": "https://localhost:8080/"
        },
        "id": "K4AgprqD4Wk6",
        "outputId": "88b5b521-24c1-4357-dfd9-294d6c87bd03"
      },
      "execution_count": 1,
      "outputs": [
        {
          "output_type": "stream",
          "name": "stdout",
          "text": [
            "           Country  RedMeat  WhiteMeat  Eggs  Milk  Fish  Cereals  Starch  \\\n",
            "0          Albania     10.1        1.4   0.5   8.9   0.2     42.3     0.6   \n",
            "1          Austria      8.9       14.0   4.3  19.9   2.1     28.0     3.6   \n",
            "2          Belgium     13.5        9.3   4.1  17.5   4.5     26.6     5.7   \n",
            "3         Bulgaria      7.8        6.0   1.6   8.3   1.2     56.7     1.1   \n",
            "4   Czechoslovakia      9.7       11.4   2.8  12.5   2.0     34.3     5.0   \n",
            "5          Denmark     10.6       10.8   3.7  25.0   9.9     21.9     4.8   \n",
            "6        E Germany      8.4       11.6   3.7  11.1   5.4     24.6     6.5   \n",
            "7          Finland      9.5        4.9   2.7  33.7   5.8     26.3     5.1   \n",
            "8           France     18.0        9.9   3.3  19.5   5.7     28.1     4.8   \n",
            "9           Greece     10.2        3.0   2.8  17.6   5.9     41.7     2.2   \n",
            "10         Hungary      5.3       12.4   2.9   9.7   0.3     40.1     4.0   \n",
            "11         Ireland     13.9       10.0   4.7  25.8   2.2     24.0     6.2   \n",
            "12           Italy      9.0        5.1   2.9  13.7   3.4     36.8     2.1   \n",
            "13     Netherlands      9.5       13.6   3.6  23.4   2.5     22.4     4.2   \n",
            "14          Norway      9.4        4.7   2.7  23.3   9.7     23.0     4.6   \n",
            "15          Poland      6.9       10.2   2.7  19.3   3.0     36.1     5.9   \n",
            "16        Portugal      6.2        3.7   1.1   4.9  14.2     27.0     5.9   \n",
            "17         Romania      6.2        6.3   1.5  11.1   1.0     49.6     3.1   \n",
            "18           Spain      7.1        3.4   3.1   8.6   7.0     29.2     5.7   \n",
            "19          Sweden      9.9        7.8   3.5  24.7   7.5     19.5     3.7   \n",
            "20     Switzerland     13.1       10.1   3.1  23.8   2.3     25.6     2.8   \n",
            "21              UK     17.4        5.7   4.7  20.6   4.3     24.3     4.7   \n",
            "22            USSR      9.3        4.6   2.1  16.6   3.0     43.6     6.4   \n",
            "23       W Germany     11.4       12.5   4.1  18.8   3.4     18.6     5.2   \n",
            "24      Yugoslavia      4.4        5.0   1.2   9.5   0.6     55.9     3.0   \n",
            "\n",
            "    Nuts  Fr&Veg  \n",
            "0    5.5     1.7  \n",
            "1    1.3     4.3  \n",
            "2    2.1     4.0  \n",
            "3    3.7     4.2  \n",
            "4    1.1     4.0  \n",
            "5    0.7     2.4  \n",
            "6    0.8     3.6  \n",
            "7    1.0     1.4  \n",
            "8    2.4     6.5  \n",
            "9    7.8     6.5  \n",
            "10   5.4     4.2  \n",
            "11   1.6     2.9  \n",
            "12   4.3     6.7  \n",
            "13   1.8     3.7  \n",
            "14   1.6     2.7  \n",
            "15   2.0     6.6  \n",
            "16   4.7     7.9  \n",
            "17   5.3     2.8  \n",
            "18   5.9     7.2  \n",
            "19   1.4     2.0  \n",
            "20   2.4     4.9  \n",
            "21   3.4     3.3  \n",
            "22   3.4     2.9  \n",
            "23   1.5     3.8  \n",
            "24   5.7     3.2  \n"
          ]
        }
      ]
    },
    {
      "cell_type": "markdown",
      "source": [
        "The dataset comprises of different countries,types of foods that is; red meat,white meat,fish,eggs,cereals,starch,nuts,fruits & veg.It shows the level of protein that is contained in each type of food."
      ],
      "metadata": {
        "id": "zBV1DUjPFi1W"
      }
    },
    {
      "cell_type": "code",
      "source": [
        "from tabulate import tabulate\n",
        "\n",
        "#getting column names\n",
        "column_names = df.columns.tolist()\n",
        "\n",
        "#convert column names to a list for tabulation\n",
        "column_names_table = [[i+1, name] for i, name in enumerate(column_names)]\n",
        "\n",
        "# Print column names as a table\n",
        "print(tabulate(column_names_table, headers=[\"Index\", \"Column Name\"]))"
      ],
      "metadata": {
        "colab": {
          "base_uri": "https://localhost:8080/"
        },
        "id": "O9u9aYG__tCj",
        "outputId": "e456263e-c6cf-4e96-9a45-0541d17b5fd6"
      },
      "execution_count": 2,
      "outputs": [
        {
          "output_type": "stream",
          "name": "stdout",
          "text": [
            "  Index  Column Name\n",
            "-------  -------------\n",
            "      1  Country\n",
            "      2  RedMeat\n",
            "      3  WhiteMeat\n",
            "      4  Eggs\n",
            "      5  Milk\n",
            "      6  Fish\n",
            "      7  Cereals\n",
            "      8  Starch\n",
            "      9  Nuts\n",
            "     10  Fr&Veg\n"
          ]
        }
      ]
    },
    {
      "cell_type": "markdown",
      "source": [
        "The columns are stated."
      ],
      "metadata": {
        "id": "zrwbpNDU_vFk"
      }
    },
    {
      "cell_type": "code",
      "source": [
        "df.head()"
      ],
      "metadata": {
        "colab": {
          "base_uri": "https://localhost:8080/",
          "height": 206
        },
        "id": "GPsRkdc2ipwR",
        "outputId": "b300a5a4-ee4f-4dbf-94ee-7a322ace2c99"
      },
      "execution_count": 3,
      "outputs": [
        {
          "output_type": "execute_result",
          "data": {
            "text/plain": [
              "          Country  RedMeat  WhiteMeat  Eggs  Milk  Fish  Cereals  Starch  \\\n",
              "0         Albania     10.1        1.4   0.5   8.9   0.2     42.3     0.6   \n",
              "1         Austria      8.9       14.0   4.3  19.9   2.1     28.0     3.6   \n",
              "2         Belgium     13.5        9.3   4.1  17.5   4.5     26.6     5.7   \n",
              "3        Bulgaria      7.8        6.0   1.6   8.3   1.2     56.7     1.1   \n",
              "4  Czechoslovakia      9.7       11.4   2.8  12.5   2.0     34.3     5.0   \n",
              "\n",
              "   Nuts  Fr&Veg  \n",
              "0   5.5     1.7  \n",
              "1   1.3     4.3  \n",
              "2   2.1     4.0  \n",
              "3   3.7     4.2  \n",
              "4   1.1     4.0  "
            ],
            "text/html": [
              "\n",
              "  <div id=\"df-1fb3c20e-aac0-46d6-82e3-8516ee1c4fa7\" class=\"colab-df-container\">\n",
              "    <div>\n",
              "<style scoped>\n",
              "    .dataframe tbody tr th:only-of-type {\n",
              "        vertical-align: middle;\n",
              "    }\n",
              "\n",
              "    .dataframe tbody tr th {\n",
              "        vertical-align: top;\n",
              "    }\n",
              "\n",
              "    .dataframe thead th {\n",
              "        text-align: right;\n",
              "    }\n",
              "</style>\n",
              "<table border=\"1\" class=\"dataframe\">\n",
              "  <thead>\n",
              "    <tr style=\"text-align: right;\">\n",
              "      <th></th>\n",
              "      <th>Country</th>\n",
              "      <th>RedMeat</th>\n",
              "      <th>WhiteMeat</th>\n",
              "      <th>Eggs</th>\n",
              "      <th>Milk</th>\n",
              "      <th>Fish</th>\n",
              "      <th>Cereals</th>\n",
              "      <th>Starch</th>\n",
              "      <th>Nuts</th>\n",
              "      <th>Fr&amp;Veg</th>\n",
              "    </tr>\n",
              "  </thead>\n",
              "  <tbody>\n",
              "    <tr>\n",
              "      <th>0</th>\n",
              "      <td>Albania</td>\n",
              "      <td>10.1</td>\n",
              "      <td>1.4</td>\n",
              "      <td>0.5</td>\n",
              "      <td>8.9</td>\n",
              "      <td>0.2</td>\n",
              "      <td>42.3</td>\n",
              "      <td>0.6</td>\n",
              "      <td>5.5</td>\n",
              "      <td>1.7</td>\n",
              "    </tr>\n",
              "    <tr>\n",
              "      <th>1</th>\n",
              "      <td>Austria</td>\n",
              "      <td>8.9</td>\n",
              "      <td>14.0</td>\n",
              "      <td>4.3</td>\n",
              "      <td>19.9</td>\n",
              "      <td>2.1</td>\n",
              "      <td>28.0</td>\n",
              "      <td>3.6</td>\n",
              "      <td>1.3</td>\n",
              "      <td>4.3</td>\n",
              "    </tr>\n",
              "    <tr>\n",
              "      <th>2</th>\n",
              "      <td>Belgium</td>\n",
              "      <td>13.5</td>\n",
              "      <td>9.3</td>\n",
              "      <td>4.1</td>\n",
              "      <td>17.5</td>\n",
              "      <td>4.5</td>\n",
              "      <td>26.6</td>\n",
              "      <td>5.7</td>\n",
              "      <td>2.1</td>\n",
              "      <td>4.0</td>\n",
              "    </tr>\n",
              "    <tr>\n",
              "      <th>3</th>\n",
              "      <td>Bulgaria</td>\n",
              "      <td>7.8</td>\n",
              "      <td>6.0</td>\n",
              "      <td>1.6</td>\n",
              "      <td>8.3</td>\n",
              "      <td>1.2</td>\n",
              "      <td>56.7</td>\n",
              "      <td>1.1</td>\n",
              "      <td>3.7</td>\n",
              "      <td>4.2</td>\n",
              "    </tr>\n",
              "    <tr>\n",
              "      <th>4</th>\n",
              "      <td>Czechoslovakia</td>\n",
              "      <td>9.7</td>\n",
              "      <td>11.4</td>\n",
              "      <td>2.8</td>\n",
              "      <td>12.5</td>\n",
              "      <td>2.0</td>\n",
              "      <td>34.3</td>\n",
              "      <td>5.0</td>\n",
              "      <td>1.1</td>\n",
              "      <td>4.0</td>\n",
              "    </tr>\n",
              "  </tbody>\n",
              "</table>\n",
              "</div>\n",
              "    <div class=\"colab-df-buttons\">\n",
              "\n",
              "  <div class=\"colab-df-container\">\n",
              "    <button class=\"colab-df-convert\" onclick=\"convertToInteractive('df-1fb3c20e-aac0-46d6-82e3-8516ee1c4fa7')\"\n",
              "            title=\"Convert this dataframe to an interactive table.\"\n",
              "            style=\"display:none;\">\n",
              "\n",
              "  <svg xmlns=\"http://www.w3.org/2000/svg\" height=\"24px\" viewBox=\"0 -960 960 960\">\n",
              "    <path d=\"M120-120v-720h720v720H120Zm60-500h600v-160H180v160Zm220 220h160v-160H400v160Zm0 220h160v-160H400v160ZM180-400h160v-160H180v160Zm440 0h160v-160H620v160ZM180-180h160v-160H180v160Zm440 0h160v-160H620v160Z\"/>\n",
              "  </svg>\n",
              "    </button>\n",
              "\n",
              "  <style>\n",
              "    .colab-df-container {\n",
              "      display:flex;\n",
              "      gap: 12px;\n",
              "    }\n",
              "\n",
              "    .colab-df-convert {\n",
              "      background-color: #E8F0FE;\n",
              "      border: none;\n",
              "      border-radius: 50%;\n",
              "      cursor: pointer;\n",
              "      display: none;\n",
              "      fill: #1967D2;\n",
              "      height: 32px;\n",
              "      padding: 0 0 0 0;\n",
              "      width: 32px;\n",
              "    }\n",
              "\n",
              "    .colab-df-convert:hover {\n",
              "      background-color: #E2EBFA;\n",
              "      box-shadow: 0px 1px 2px rgba(60, 64, 67, 0.3), 0px 1px 3px 1px rgba(60, 64, 67, 0.15);\n",
              "      fill: #174EA6;\n",
              "    }\n",
              "\n",
              "    .colab-df-buttons div {\n",
              "      margin-bottom: 4px;\n",
              "    }\n",
              "\n",
              "    [theme=dark] .colab-df-convert {\n",
              "      background-color: #3B4455;\n",
              "      fill: #D2E3FC;\n",
              "    }\n",
              "\n",
              "    [theme=dark] .colab-df-convert:hover {\n",
              "      background-color: #434B5C;\n",
              "      box-shadow: 0px 1px 3px 1px rgba(0, 0, 0, 0.15);\n",
              "      filter: drop-shadow(0px 1px 2px rgba(0, 0, 0, 0.3));\n",
              "      fill: #FFFFFF;\n",
              "    }\n",
              "  </style>\n",
              "\n",
              "    <script>\n",
              "      const buttonEl =\n",
              "        document.querySelector('#df-1fb3c20e-aac0-46d6-82e3-8516ee1c4fa7 button.colab-df-convert');\n",
              "      buttonEl.style.display =\n",
              "        google.colab.kernel.accessAllowed ? 'block' : 'none';\n",
              "\n",
              "      async function convertToInteractive(key) {\n",
              "        const element = document.querySelector('#df-1fb3c20e-aac0-46d6-82e3-8516ee1c4fa7');\n",
              "        const dataTable =\n",
              "          await google.colab.kernel.invokeFunction('convertToInteractive',\n",
              "                                                    [key], {});\n",
              "        if (!dataTable) return;\n",
              "\n",
              "        const docLinkHtml = 'Like what you see? Visit the ' +\n",
              "          '<a target=\"_blank\" href=https://colab.research.google.com/notebooks/data_table.ipynb>data table notebook</a>'\n",
              "          + ' to learn more about interactive tables.';\n",
              "        element.innerHTML = '';\n",
              "        dataTable['output_type'] = 'display_data';\n",
              "        await google.colab.output.renderOutput(dataTable, element);\n",
              "        const docLink = document.createElement('div');\n",
              "        docLink.innerHTML = docLinkHtml;\n",
              "        element.appendChild(docLink);\n",
              "      }\n",
              "    </script>\n",
              "  </div>\n",
              "\n",
              "\n",
              "<div id=\"df-59124f7d-370a-4f1b-b9d7-d20021aebb2c\">\n",
              "  <button class=\"colab-df-quickchart\" onclick=\"quickchart('df-59124f7d-370a-4f1b-b9d7-d20021aebb2c')\"\n",
              "            title=\"Suggest charts\"\n",
              "            style=\"display:none;\">\n",
              "\n",
              "<svg xmlns=\"http://www.w3.org/2000/svg\" height=\"24px\"viewBox=\"0 0 24 24\"\n",
              "     width=\"24px\">\n",
              "    <g>\n",
              "        <path d=\"M19 3H5c-1.1 0-2 .9-2 2v14c0 1.1.9 2 2 2h14c1.1 0 2-.9 2-2V5c0-1.1-.9-2-2-2zM9 17H7v-7h2v7zm4 0h-2V7h2v10zm4 0h-2v-4h2v4z\"/>\n",
              "    </g>\n",
              "</svg>\n",
              "  </button>\n",
              "\n",
              "<style>\n",
              "  .colab-df-quickchart {\n",
              "      --bg-color: #E8F0FE;\n",
              "      --fill-color: #1967D2;\n",
              "      --hover-bg-color: #E2EBFA;\n",
              "      --hover-fill-color: #174EA6;\n",
              "      --disabled-fill-color: #AAA;\n",
              "      --disabled-bg-color: #DDD;\n",
              "  }\n",
              "\n",
              "  [theme=dark] .colab-df-quickchart {\n",
              "      --bg-color: #3B4455;\n",
              "      --fill-color: #D2E3FC;\n",
              "      --hover-bg-color: #434B5C;\n",
              "      --hover-fill-color: #FFFFFF;\n",
              "      --disabled-bg-color: #3B4455;\n",
              "      --disabled-fill-color: #666;\n",
              "  }\n",
              "\n",
              "  .colab-df-quickchart {\n",
              "    background-color: var(--bg-color);\n",
              "    border: none;\n",
              "    border-radius: 50%;\n",
              "    cursor: pointer;\n",
              "    display: none;\n",
              "    fill: var(--fill-color);\n",
              "    height: 32px;\n",
              "    padding: 0;\n",
              "    width: 32px;\n",
              "  }\n",
              "\n",
              "  .colab-df-quickchart:hover {\n",
              "    background-color: var(--hover-bg-color);\n",
              "    box-shadow: 0 1px 2px rgba(60, 64, 67, 0.3), 0 1px 3px 1px rgba(60, 64, 67, 0.15);\n",
              "    fill: var(--button-hover-fill-color);\n",
              "  }\n",
              "\n",
              "  .colab-df-quickchart-complete:disabled,\n",
              "  .colab-df-quickchart-complete:disabled:hover {\n",
              "    background-color: var(--disabled-bg-color);\n",
              "    fill: var(--disabled-fill-color);\n",
              "    box-shadow: none;\n",
              "  }\n",
              "\n",
              "  .colab-df-spinner {\n",
              "    border: 2px solid var(--fill-color);\n",
              "    border-color: transparent;\n",
              "    border-bottom-color: var(--fill-color);\n",
              "    animation:\n",
              "      spin 1s steps(1) infinite;\n",
              "  }\n",
              "\n",
              "  @keyframes spin {\n",
              "    0% {\n",
              "      border-color: transparent;\n",
              "      border-bottom-color: var(--fill-color);\n",
              "      border-left-color: var(--fill-color);\n",
              "    }\n",
              "    20% {\n",
              "      border-color: transparent;\n",
              "      border-left-color: var(--fill-color);\n",
              "      border-top-color: var(--fill-color);\n",
              "    }\n",
              "    30% {\n",
              "      border-color: transparent;\n",
              "      border-left-color: var(--fill-color);\n",
              "      border-top-color: var(--fill-color);\n",
              "      border-right-color: var(--fill-color);\n",
              "    }\n",
              "    40% {\n",
              "      border-color: transparent;\n",
              "      border-right-color: var(--fill-color);\n",
              "      border-top-color: var(--fill-color);\n",
              "    }\n",
              "    60% {\n",
              "      border-color: transparent;\n",
              "      border-right-color: var(--fill-color);\n",
              "    }\n",
              "    80% {\n",
              "      border-color: transparent;\n",
              "      border-right-color: var(--fill-color);\n",
              "      border-bottom-color: var(--fill-color);\n",
              "    }\n",
              "    90% {\n",
              "      border-color: transparent;\n",
              "      border-bottom-color: var(--fill-color);\n",
              "    }\n",
              "  }\n",
              "</style>\n",
              "\n",
              "  <script>\n",
              "    async function quickchart(key) {\n",
              "      const quickchartButtonEl =\n",
              "        document.querySelector('#' + key + ' button');\n",
              "      quickchartButtonEl.disabled = true;  // To prevent multiple clicks.\n",
              "      quickchartButtonEl.classList.add('colab-df-spinner');\n",
              "      try {\n",
              "        const charts = await google.colab.kernel.invokeFunction(\n",
              "            'suggestCharts', [key], {});\n",
              "      } catch (error) {\n",
              "        console.error('Error during call to suggestCharts:', error);\n",
              "      }\n",
              "      quickchartButtonEl.classList.remove('colab-df-spinner');\n",
              "      quickchartButtonEl.classList.add('colab-df-quickchart-complete');\n",
              "    }\n",
              "    (() => {\n",
              "      let quickchartButtonEl =\n",
              "        document.querySelector('#df-59124f7d-370a-4f1b-b9d7-d20021aebb2c button');\n",
              "      quickchartButtonEl.style.display =\n",
              "        google.colab.kernel.accessAllowed ? 'block' : 'none';\n",
              "    })();\n",
              "  </script>\n",
              "</div>\n",
              "\n",
              "    </div>\n",
              "  </div>\n"
            ],
            "application/vnd.google.colaboratory.intrinsic+json": {
              "type": "dataframe",
              "variable_name": "df",
              "summary": "{\n  \"name\": \"df\",\n  \"rows\": 25,\n  \"fields\": [\n    {\n      \"column\": \"Country\",\n      \"properties\": {\n        \"dtype\": \"string\",\n        \"num_unique_values\": 25,\n        \"samples\": [\n          \"France\",\n          \"Portugal\",\n          \"Albania\"\n        ],\n        \"semantic_type\": \"\",\n        \"description\": \"\"\n      }\n    },\n    {\n      \"column\": \"RedMeat\",\n      \"properties\": {\n        \"dtype\": \"number\",\n        \"std\": 3.3470783279351757,\n        \"min\": 4.4,\n        \"max\": 18.0,\n        \"num_unique_values\": 23,\n        \"samples\": [\n          6.2,\n          10.2,\n          10.1\n        ],\n        \"semantic_type\": \"\",\n        \"description\": \"\"\n      }\n    },\n    {\n      \"column\": \"WhiteMeat\",\n      \"properties\": {\n        \"dtype\": \"number\",\n        \"std\": 3.694080850947003,\n        \"min\": 1.4,\n        \"max\": 14.0,\n        \"num_unique_values\": 25,\n        \"samples\": [\n          9.9,\n          3.7,\n          1.4\n        ],\n        \"semantic_type\": \"\",\n        \"description\": \"\"\n      }\n    },\n    {\n      \"column\": \"Eggs\",\n      \"properties\": {\n        \"dtype\": \"number\",\n        \"std\": 1.1176165114504468,\n        \"min\": 0.5,\n        \"max\": 4.7,\n        \"num_unique_values\": 17,\n        \"samples\": [\n          0.5,\n          4.3,\n          3.7\n        ],\n        \"semantic_type\": \"\",\n        \"description\": \"\"\n      }\n    },\n    {\n      \"column\": \"Milk\",\n      \"properties\": {\n        \"dtype\": \"number\",\n        \"std\": 7.10541577483917,\n        \"min\": 4.9,\n        \"max\": 33.7,\n        \"num_unique_values\": 24,\n        \"samples\": [\n          19.5,\n          4.9,\n          8.9\n        ],\n        \"semantic_type\": \"\",\n        \"description\": \"\"\n      }\n    },\n    {\n      \"column\": \"Fish\",\n      \"properties\": {\n        \"dtype\": \"number\",\n        \"std\": 3.402533369907389,\n        \"min\": 0.2,\n        \"max\": 14.2,\n        \"num_unique_values\": 23,\n        \"samples\": [\n          3.0,\n          5.9,\n          0.2\n        ],\n        \"semantic_type\": \"\",\n        \"description\": \"\"\n      }\n    },\n    {\n      \"column\": \"Cereals\",\n      \"properties\": {\n        \"dtype\": \"number\",\n        \"std\": 10.974786254562469,\n        \"min\": 18.6,\n        \"max\": 56.7,\n        \"num_unique_values\": 25,\n        \"samples\": [\n          28.1,\n          27.0,\n          42.3\n        ],\n        \"semantic_type\": \"\",\n        \"description\": \"\"\n      }\n    },\n    {\n      \"column\": \"Starch\",\n      \"properties\": {\n        \"dtype\": \"number\",\n        \"std\": 1.6340848611174799,\n        \"min\": 0.6,\n        \"max\": 6.5,\n        \"num_unique_values\": 22,\n        \"samples\": [\n          0.6,\n          4.6,\n          2.2\n        ],\n        \"semantic_type\": \"\",\n        \"description\": \"\"\n      }\n    },\n    {\n      \"column\": \"Nuts\",\n      \"properties\": {\n        \"dtype\": \"number\",\n        \"std\": 1.9856820826439798,\n        \"min\": 0.7,\n        \"max\": 7.8,\n        \"num_unique_values\": 22,\n        \"samples\": [\n          5.5,\n          1.8,\n          2.4\n        ],\n        \"semantic_type\": \"\",\n        \"description\": \"\"\n      }\n    },\n    {\n      \"column\": \"Fr&Veg\",\n      \"properties\": {\n        \"dtype\": \"number\",\n        \"std\": 1.8039031755243036,\n        \"min\": 1.4,\n        \"max\": 7.9,\n        \"num_unique_values\": 21,\n        \"samples\": [\n          1.7,\n          4.9,\n          7.2\n        ],\n        \"semantic_type\": \"\",\n        \"description\": \"\"\n      }\n    }\n  ]\n}"
            }
          },
          "metadata": {},
          "execution_count": 3
        }
      ]
    },
    {
      "cell_type": "markdown",
      "source": [
        "This shows the first five rows of the dataset"
      ],
      "metadata": {
        "id": "O1EhtaDKGMmF"
      }
    },
    {
      "cell_type": "code",
      "source": [
        "df.tail()"
      ],
      "metadata": {
        "colab": {
          "base_uri": "https://localhost:8080/",
          "height": 206
        },
        "id": "gAf4jxDKi-mt",
        "outputId": "e36b087d-6eb2-4329-cbe6-860b41cb8177"
      },
      "execution_count": 4,
      "outputs": [
        {
          "output_type": "execute_result",
          "data": {
            "text/plain": [
              "        Country  RedMeat  WhiteMeat  Eggs  Milk  Fish  Cereals  Starch  Nuts  \\\n",
              "20  Switzerland     13.1       10.1   3.1  23.8   2.3     25.6     2.8   2.4   \n",
              "21           UK     17.4        5.7   4.7  20.6   4.3     24.3     4.7   3.4   \n",
              "22         USSR      9.3        4.6   2.1  16.6   3.0     43.6     6.4   3.4   \n",
              "23    W Germany     11.4       12.5   4.1  18.8   3.4     18.6     5.2   1.5   \n",
              "24   Yugoslavia      4.4        5.0   1.2   9.5   0.6     55.9     3.0   5.7   \n",
              "\n",
              "    Fr&Veg  \n",
              "20     4.9  \n",
              "21     3.3  \n",
              "22     2.9  \n",
              "23     3.8  \n",
              "24     3.2  "
            ],
            "text/html": [
              "\n",
              "  <div id=\"df-b7e8497b-71ab-4006-8c1c-68e7d9263c3f\" class=\"colab-df-container\">\n",
              "    <div>\n",
              "<style scoped>\n",
              "    .dataframe tbody tr th:only-of-type {\n",
              "        vertical-align: middle;\n",
              "    }\n",
              "\n",
              "    .dataframe tbody tr th {\n",
              "        vertical-align: top;\n",
              "    }\n",
              "\n",
              "    .dataframe thead th {\n",
              "        text-align: right;\n",
              "    }\n",
              "</style>\n",
              "<table border=\"1\" class=\"dataframe\">\n",
              "  <thead>\n",
              "    <tr style=\"text-align: right;\">\n",
              "      <th></th>\n",
              "      <th>Country</th>\n",
              "      <th>RedMeat</th>\n",
              "      <th>WhiteMeat</th>\n",
              "      <th>Eggs</th>\n",
              "      <th>Milk</th>\n",
              "      <th>Fish</th>\n",
              "      <th>Cereals</th>\n",
              "      <th>Starch</th>\n",
              "      <th>Nuts</th>\n",
              "      <th>Fr&amp;Veg</th>\n",
              "    </tr>\n",
              "  </thead>\n",
              "  <tbody>\n",
              "    <tr>\n",
              "      <th>20</th>\n",
              "      <td>Switzerland</td>\n",
              "      <td>13.1</td>\n",
              "      <td>10.1</td>\n",
              "      <td>3.1</td>\n",
              "      <td>23.8</td>\n",
              "      <td>2.3</td>\n",
              "      <td>25.6</td>\n",
              "      <td>2.8</td>\n",
              "      <td>2.4</td>\n",
              "      <td>4.9</td>\n",
              "    </tr>\n",
              "    <tr>\n",
              "      <th>21</th>\n",
              "      <td>UK</td>\n",
              "      <td>17.4</td>\n",
              "      <td>5.7</td>\n",
              "      <td>4.7</td>\n",
              "      <td>20.6</td>\n",
              "      <td>4.3</td>\n",
              "      <td>24.3</td>\n",
              "      <td>4.7</td>\n",
              "      <td>3.4</td>\n",
              "      <td>3.3</td>\n",
              "    </tr>\n",
              "    <tr>\n",
              "      <th>22</th>\n",
              "      <td>USSR</td>\n",
              "      <td>9.3</td>\n",
              "      <td>4.6</td>\n",
              "      <td>2.1</td>\n",
              "      <td>16.6</td>\n",
              "      <td>3.0</td>\n",
              "      <td>43.6</td>\n",
              "      <td>6.4</td>\n",
              "      <td>3.4</td>\n",
              "      <td>2.9</td>\n",
              "    </tr>\n",
              "    <tr>\n",
              "      <th>23</th>\n",
              "      <td>W Germany</td>\n",
              "      <td>11.4</td>\n",
              "      <td>12.5</td>\n",
              "      <td>4.1</td>\n",
              "      <td>18.8</td>\n",
              "      <td>3.4</td>\n",
              "      <td>18.6</td>\n",
              "      <td>5.2</td>\n",
              "      <td>1.5</td>\n",
              "      <td>3.8</td>\n",
              "    </tr>\n",
              "    <tr>\n",
              "      <th>24</th>\n",
              "      <td>Yugoslavia</td>\n",
              "      <td>4.4</td>\n",
              "      <td>5.0</td>\n",
              "      <td>1.2</td>\n",
              "      <td>9.5</td>\n",
              "      <td>0.6</td>\n",
              "      <td>55.9</td>\n",
              "      <td>3.0</td>\n",
              "      <td>5.7</td>\n",
              "      <td>3.2</td>\n",
              "    </tr>\n",
              "  </tbody>\n",
              "</table>\n",
              "</div>\n",
              "    <div class=\"colab-df-buttons\">\n",
              "\n",
              "  <div class=\"colab-df-container\">\n",
              "    <button class=\"colab-df-convert\" onclick=\"convertToInteractive('df-b7e8497b-71ab-4006-8c1c-68e7d9263c3f')\"\n",
              "            title=\"Convert this dataframe to an interactive table.\"\n",
              "            style=\"display:none;\">\n",
              "\n",
              "  <svg xmlns=\"http://www.w3.org/2000/svg\" height=\"24px\" viewBox=\"0 -960 960 960\">\n",
              "    <path d=\"M120-120v-720h720v720H120Zm60-500h600v-160H180v160Zm220 220h160v-160H400v160Zm0 220h160v-160H400v160ZM180-400h160v-160H180v160Zm440 0h160v-160H620v160ZM180-180h160v-160H180v160Zm440 0h160v-160H620v160Z\"/>\n",
              "  </svg>\n",
              "    </button>\n",
              "\n",
              "  <style>\n",
              "    .colab-df-container {\n",
              "      display:flex;\n",
              "      gap: 12px;\n",
              "    }\n",
              "\n",
              "    .colab-df-convert {\n",
              "      background-color: #E8F0FE;\n",
              "      border: none;\n",
              "      border-radius: 50%;\n",
              "      cursor: pointer;\n",
              "      display: none;\n",
              "      fill: #1967D2;\n",
              "      height: 32px;\n",
              "      padding: 0 0 0 0;\n",
              "      width: 32px;\n",
              "    }\n",
              "\n",
              "    .colab-df-convert:hover {\n",
              "      background-color: #E2EBFA;\n",
              "      box-shadow: 0px 1px 2px rgba(60, 64, 67, 0.3), 0px 1px 3px 1px rgba(60, 64, 67, 0.15);\n",
              "      fill: #174EA6;\n",
              "    }\n",
              "\n",
              "    .colab-df-buttons div {\n",
              "      margin-bottom: 4px;\n",
              "    }\n",
              "\n",
              "    [theme=dark] .colab-df-convert {\n",
              "      background-color: #3B4455;\n",
              "      fill: #D2E3FC;\n",
              "    }\n",
              "\n",
              "    [theme=dark] .colab-df-convert:hover {\n",
              "      background-color: #434B5C;\n",
              "      box-shadow: 0px 1px 3px 1px rgba(0, 0, 0, 0.15);\n",
              "      filter: drop-shadow(0px 1px 2px rgba(0, 0, 0, 0.3));\n",
              "      fill: #FFFFFF;\n",
              "    }\n",
              "  </style>\n",
              "\n",
              "    <script>\n",
              "      const buttonEl =\n",
              "        document.querySelector('#df-b7e8497b-71ab-4006-8c1c-68e7d9263c3f button.colab-df-convert');\n",
              "      buttonEl.style.display =\n",
              "        google.colab.kernel.accessAllowed ? 'block' : 'none';\n",
              "\n",
              "      async function convertToInteractive(key) {\n",
              "        const element = document.querySelector('#df-b7e8497b-71ab-4006-8c1c-68e7d9263c3f');\n",
              "        const dataTable =\n",
              "          await google.colab.kernel.invokeFunction('convertToInteractive',\n",
              "                                                    [key], {});\n",
              "        if (!dataTable) return;\n",
              "\n",
              "        const docLinkHtml = 'Like what you see? Visit the ' +\n",
              "          '<a target=\"_blank\" href=https://colab.research.google.com/notebooks/data_table.ipynb>data table notebook</a>'\n",
              "          + ' to learn more about interactive tables.';\n",
              "        element.innerHTML = '';\n",
              "        dataTable['output_type'] = 'display_data';\n",
              "        await google.colab.output.renderOutput(dataTable, element);\n",
              "        const docLink = document.createElement('div');\n",
              "        docLink.innerHTML = docLinkHtml;\n",
              "        element.appendChild(docLink);\n",
              "      }\n",
              "    </script>\n",
              "  </div>\n",
              "\n",
              "\n",
              "<div id=\"df-22f0bcb1-6f22-4b4a-9ae9-028244c704ba\">\n",
              "  <button class=\"colab-df-quickchart\" onclick=\"quickchart('df-22f0bcb1-6f22-4b4a-9ae9-028244c704ba')\"\n",
              "            title=\"Suggest charts\"\n",
              "            style=\"display:none;\">\n",
              "\n",
              "<svg xmlns=\"http://www.w3.org/2000/svg\" height=\"24px\"viewBox=\"0 0 24 24\"\n",
              "     width=\"24px\">\n",
              "    <g>\n",
              "        <path d=\"M19 3H5c-1.1 0-2 .9-2 2v14c0 1.1.9 2 2 2h14c1.1 0 2-.9 2-2V5c0-1.1-.9-2-2-2zM9 17H7v-7h2v7zm4 0h-2V7h2v10zm4 0h-2v-4h2v4z\"/>\n",
              "    </g>\n",
              "</svg>\n",
              "  </button>\n",
              "\n",
              "<style>\n",
              "  .colab-df-quickchart {\n",
              "      --bg-color: #E8F0FE;\n",
              "      --fill-color: #1967D2;\n",
              "      --hover-bg-color: #E2EBFA;\n",
              "      --hover-fill-color: #174EA6;\n",
              "      --disabled-fill-color: #AAA;\n",
              "      --disabled-bg-color: #DDD;\n",
              "  }\n",
              "\n",
              "  [theme=dark] .colab-df-quickchart {\n",
              "      --bg-color: #3B4455;\n",
              "      --fill-color: #D2E3FC;\n",
              "      --hover-bg-color: #434B5C;\n",
              "      --hover-fill-color: #FFFFFF;\n",
              "      --disabled-bg-color: #3B4455;\n",
              "      --disabled-fill-color: #666;\n",
              "  }\n",
              "\n",
              "  .colab-df-quickchart {\n",
              "    background-color: var(--bg-color);\n",
              "    border: none;\n",
              "    border-radius: 50%;\n",
              "    cursor: pointer;\n",
              "    display: none;\n",
              "    fill: var(--fill-color);\n",
              "    height: 32px;\n",
              "    padding: 0;\n",
              "    width: 32px;\n",
              "  }\n",
              "\n",
              "  .colab-df-quickchart:hover {\n",
              "    background-color: var(--hover-bg-color);\n",
              "    box-shadow: 0 1px 2px rgba(60, 64, 67, 0.3), 0 1px 3px 1px rgba(60, 64, 67, 0.15);\n",
              "    fill: var(--button-hover-fill-color);\n",
              "  }\n",
              "\n",
              "  .colab-df-quickchart-complete:disabled,\n",
              "  .colab-df-quickchart-complete:disabled:hover {\n",
              "    background-color: var(--disabled-bg-color);\n",
              "    fill: var(--disabled-fill-color);\n",
              "    box-shadow: none;\n",
              "  }\n",
              "\n",
              "  .colab-df-spinner {\n",
              "    border: 2px solid var(--fill-color);\n",
              "    border-color: transparent;\n",
              "    border-bottom-color: var(--fill-color);\n",
              "    animation:\n",
              "      spin 1s steps(1) infinite;\n",
              "  }\n",
              "\n",
              "  @keyframes spin {\n",
              "    0% {\n",
              "      border-color: transparent;\n",
              "      border-bottom-color: var(--fill-color);\n",
              "      border-left-color: var(--fill-color);\n",
              "    }\n",
              "    20% {\n",
              "      border-color: transparent;\n",
              "      border-left-color: var(--fill-color);\n",
              "      border-top-color: var(--fill-color);\n",
              "    }\n",
              "    30% {\n",
              "      border-color: transparent;\n",
              "      border-left-color: var(--fill-color);\n",
              "      border-top-color: var(--fill-color);\n",
              "      border-right-color: var(--fill-color);\n",
              "    }\n",
              "    40% {\n",
              "      border-color: transparent;\n",
              "      border-right-color: var(--fill-color);\n",
              "      border-top-color: var(--fill-color);\n",
              "    }\n",
              "    60% {\n",
              "      border-color: transparent;\n",
              "      border-right-color: var(--fill-color);\n",
              "    }\n",
              "    80% {\n",
              "      border-color: transparent;\n",
              "      border-right-color: var(--fill-color);\n",
              "      border-bottom-color: var(--fill-color);\n",
              "    }\n",
              "    90% {\n",
              "      border-color: transparent;\n",
              "      border-bottom-color: var(--fill-color);\n",
              "    }\n",
              "  }\n",
              "</style>\n",
              "\n",
              "  <script>\n",
              "    async function quickchart(key) {\n",
              "      const quickchartButtonEl =\n",
              "        document.querySelector('#' + key + ' button');\n",
              "      quickchartButtonEl.disabled = true;  // To prevent multiple clicks.\n",
              "      quickchartButtonEl.classList.add('colab-df-spinner');\n",
              "      try {\n",
              "        const charts = await google.colab.kernel.invokeFunction(\n",
              "            'suggestCharts', [key], {});\n",
              "      } catch (error) {\n",
              "        console.error('Error during call to suggestCharts:', error);\n",
              "      }\n",
              "      quickchartButtonEl.classList.remove('colab-df-spinner');\n",
              "      quickchartButtonEl.classList.add('colab-df-quickchart-complete');\n",
              "    }\n",
              "    (() => {\n",
              "      let quickchartButtonEl =\n",
              "        document.querySelector('#df-22f0bcb1-6f22-4b4a-9ae9-028244c704ba button');\n",
              "      quickchartButtonEl.style.display =\n",
              "        google.colab.kernel.accessAllowed ? 'block' : 'none';\n",
              "    })();\n",
              "  </script>\n",
              "</div>\n",
              "\n",
              "    </div>\n",
              "  </div>\n"
            ],
            "application/vnd.google.colaboratory.intrinsic+json": {
              "type": "dataframe",
              "summary": "{\n  \"name\": \"df\",\n  \"rows\": 5,\n  \"fields\": [\n    {\n      \"column\": \"Country\",\n      \"properties\": {\n        \"dtype\": \"string\",\n        \"num_unique_values\": 5,\n        \"samples\": [\n          \"UK\",\n          \"Yugoslavia\",\n          \"USSR\"\n        ],\n        \"semantic_type\": \"\",\n        \"description\": \"\"\n      }\n    },\n    {\n      \"column\": \"RedMeat\",\n      \"properties\": {\n        \"dtype\": \"number\",\n        \"std\": 4.793433007772196,\n        \"min\": 4.4,\n        \"max\": 17.4,\n        \"num_unique_values\": 5,\n        \"samples\": [\n          17.4,\n          4.4,\n          9.3\n        ],\n        \"semantic_type\": \"\",\n        \"description\": \"\"\n      }\n    },\n    {\n      \"column\": \"WhiteMeat\",\n      \"properties\": {\n        \"dtype\": \"number\",\n        \"std\": 3.522357165308481,\n        \"min\": 4.6,\n        \"max\": 12.5,\n        \"num_unique_values\": 5,\n        \"samples\": [\n          5.7,\n          5.0,\n          4.6\n        ],\n        \"semantic_type\": \"\",\n        \"description\": \"\"\n      }\n    },\n    {\n      \"column\": \"Eggs\",\n      \"properties\": {\n        \"dtype\": \"number\",\n        \"std\": 1.4275853739794337,\n        \"min\": 1.2,\n        \"max\": 4.7,\n        \"num_unique_values\": 5,\n        \"samples\": [\n          4.7,\n          1.2,\n          2.1\n        ],\n        \"semantic_type\": \"\",\n        \"description\": \"\"\n      }\n    },\n    {\n      \"column\": \"Milk\",\n      \"properties\": {\n        \"dtype\": \"number\",\n        \"std\": 5.365444995524602,\n        \"min\": 9.5,\n        \"max\": 23.8,\n        \"num_unique_values\": 5,\n        \"samples\": [\n          20.6,\n          9.5,\n          16.6\n        ],\n        \"semantic_type\": \"\",\n        \"description\": \"\"\n      }\n    },\n    {\n      \"column\": \"Fish\",\n      \"properties\": {\n        \"dtype\": \"number\",\n        \"std\": 1.3881642554107205,\n        \"min\": 0.6,\n        \"max\": 4.3,\n        \"num_unique_values\": 5,\n        \"samples\": [\n          4.3,\n          0.6,\n          3.0\n        ],\n        \"semantic_type\": \"\",\n        \"description\": \"\"\n      }\n    },\n    {\n      \"column\": \"Cereals\",\n      \"properties\": {\n        \"dtype\": \"number\",\n        \"std\": 15.594710641752862,\n        \"min\": 18.6,\n        \"max\": 55.9,\n        \"num_unique_values\": 5,\n        \"samples\": [\n          24.3,\n          55.9,\n          43.6\n        ],\n        \"semantic_type\": \"\",\n        \"description\": \"\"\n      }\n    },\n    {\n      \"column\": \"Starch\",\n      \"properties\": {\n        \"dtype\": \"number\",\n        \"std\": 1.5205262246998572,\n        \"min\": 2.8,\n        \"max\": 6.4,\n        \"num_unique_values\": 5,\n        \"samples\": [\n          4.7,\n          3.0,\n          6.4\n        ],\n        \"semantic_type\": \"\",\n        \"description\": \"\"\n      }\n    },\n    {\n      \"column\": \"Nuts\",\n      \"properties\": {\n        \"dtype\": \"number\",\n        \"std\": 1.567482057313576,\n        \"min\": 1.5,\n        \"max\": 5.7,\n        \"num_unique_values\": 4,\n        \"samples\": [\n          3.4,\n          5.7,\n          2.4\n        ],\n        \"semantic_type\": \"\",\n        \"description\": \"\"\n      }\n    },\n    {\n      \"column\": \"Fr&Veg\",\n      \"properties\": {\n        \"dtype\": \"number\",\n        \"std\": 0.7854934754662194,\n        \"min\": 2.9,\n        \"max\": 4.9,\n        \"num_unique_values\": 5,\n        \"samples\": [\n          3.3,\n          3.2,\n          2.9\n        ],\n        \"semantic_type\": \"\",\n        \"description\": \"\"\n      }\n    }\n  ]\n}"
            }
          },
          "metadata": {},
          "execution_count": 4
        }
      ]
    },
    {
      "cell_type": "markdown",
      "source": [
        "This shows the last five rows of the dataset"
      ],
      "metadata": {
        "id": "FIy73pkZHWu4"
      }
    },
    {
      "cell_type": "code",
      "source": [
        "#Shape\n",
        "print(df.shape)"
      ],
      "metadata": {
        "colab": {
          "base_uri": "https://localhost:8080/"
        },
        "id": "yItUnp4nKjjJ",
        "outputId": "f15ccd20-4067-4ec0-e241-9b185b7cc3ad"
      },
      "execution_count": 5,
      "outputs": [
        {
          "output_type": "stream",
          "name": "stdout",
          "text": [
            "(25, 10)\n"
          ]
        }
      ]
    },
    {
      "cell_type": "markdown",
      "source": [
        "The dataset contains 25 rows and 10 columns"
      ],
      "metadata": {
        "id": "MZHiEEb8KnJM"
      }
    },
    {
      "cell_type": "code",
      "source": [
        "# Summary of the DataFrame\n",
        "print(\"\\nSummary of the DataFrame:\")\n",
        "df.info()"
      ],
      "metadata": {
        "colab": {
          "base_uri": "https://localhost:8080/"
        },
        "id": "UZFgnn9AjCU0",
        "outputId": "920b1aae-2d16-4d5a-acf8-282bd8e6c623"
      },
      "execution_count": 6,
      "outputs": [
        {
          "output_type": "stream",
          "name": "stdout",
          "text": [
            "\n",
            "Summary of the DataFrame:\n",
            "<class 'pandas.core.frame.DataFrame'>\n",
            "RangeIndex: 25 entries, 0 to 24\n",
            "Data columns (total 10 columns):\n",
            " #   Column     Non-Null Count  Dtype  \n",
            "---  ------     --------------  -----  \n",
            " 0   Country    25 non-null     object \n",
            " 1   RedMeat    25 non-null     float64\n",
            " 2   WhiteMeat  25 non-null     float64\n",
            " 3   Eggs       25 non-null     float64\n",
            " 4   Milk       25 non-null     float64\n",
            " 5   Fish       25 non-null     float64\n",
            " 6   Cereals    25 non-null     float64\n",
            " 7   Starch     25 non-null     float64\n",
            " 8   Nuts       25 non-null     float64\n",
            " 9   Fr&Veg     25 non-null     float64\n",
            "dtypes: float64(9), object(1)\n",
            "memory usage: 2.1+ KB\n"
          ]
        }
      ]
    },
    {
      "cell_type": "markdown",
      "source": [
        "This gives all the information about the dataset such as the columns in the dataset,the data types that is; float and object, and also the data capacity."
      ],
      "metadata": {
        "id": "M__nt7ebGYxd"
      }
    },
    {
      "cell_type": "code",
      "source": [
        "# Identify missing values\n",
        "print(\"\\nMissing values in each column:\")\n",
        "print(df.isnull().sum())"
      ],
      "metadata": {
        "colab": {
          "base_uri": "https://localhost:8080/"
        },
        "id": "bCzSz4nhjWYi",
        "outputId": "91332664-d580-474e-fd43-16f497540ed1"
      },
      "execution_count": 7,
      "outputs": [
        {
          "output_type": "stream",
          "name": "stdout",
          "text": [
            "\n",
            "Missing values in each column:\n",
            "Country      0\n",
            "RedMeat      0\n",
            "WhiteMeat    0\n",
            "Eggs         0\n",
            "Milk         0\n",
            "Fish         0\n",
            "Cereals      0\n",
            "Starch       0\n",
            "Nuts         0\n",
            "Fr&Veg       0\n",
            "dtype: int64\n"
          ]
        }
      ]
    },
    {
      "cell_type": "markdown",
      "source": [
        "There are no missing values in the dataset"
      ],
      "metadata": {
        "id": "RWQHpIMAHdG_"
      }
    },
    {
      "cell_type": "code",
      "source": [
        "# Identify duplicated values\n",
        "print(\"\\nDuplicates values in each column:\")\n",
        "print(df.duplicated().sum())"
      ],
      "metadata": {
        "colab": {
          "base_uri": "https://localhost:8080/"
        },
        "id": "IbYBuOuZjjZ7",
        "outputId": "46866171-2b20-4504-8411-cbee3560a599"
      },
      "execution_count": 8,
      "outputs": [
        {
          "output_type": "stream",
          "name": "stdout",
          "text": [
            "\n",
            "Duplicates values in each column:\n",
            "0\n"
          ]
        }
      ]
    },
    {
      "cell_type": "markdown",
      "source": [
        "There are no duplicated values in the dataset"
      ],
      "metadata": {
        "id": "dbjKx8gbHpCQ"
      }
    },
    {
      "cell_type": "code",
      "source": [
        "# Define a function to detect outliers using the IQR method\n",
        "def detect_outliers(column):\n",
        "    if pd.api.types.is_numeric_dtype(column):\n",
        "        Q1 = column.quantile(0.25)\n",
        "        Q3 = column.quantile(0.75)\n",
        "        IQR = Q3 - Q1\n",
        "        lower_bound = Q1 - 1.5 * IQR\n",
        "        upper_bound = Q3 + 1.5 * IQR\n",
        "        outliers = column[(column < lower_bound) | (column > upper_bound)]\n",
        "        return outliers\n",
        "    else:\n",
        "        return pd.Series([])\n",
        "\n",
        "# Iterate through each column in the DataFrame and check for outliers\n",
        "for column in df.columns:\n",
        "    outliers = detect_outliers(df[column])\n",
        "    if not outliers.empty:\n",
        "        print(f\"Outliers detected in column '{column}':\\n{outliers}\\n\")\n",
        "    else:\n",
        "        print(f\"No outliers detected in column '{column}'\\n\")"
      ],
      "metadata": {
        "colab": {
          "base_uri": "https://localhost:8080/"
        },
        "id": "mzu5WmLBAF8E",
        "outputId": "d55afd63-635b-4a58-8a7d-bec8b6976162"
      },
      "execution_count": 9,
      "outputs": [
        {
          "output_type": "stream",
          "name": "stdout",
          "text": [
            "No outliers detected in column 'Country'\n",
            "\n",
            "Outliers detected in column 'RedMeat':\n",
            "8     18.0\n",
            "21    17.4\n",
            "Name: RedMeat, dtype: float64\n",
            "\n",
            "No outliers detected in column 'WhiteMeat'\n",
            "\n",
            "Outliers detected in column 'Eggs':\n",
            "0     0.5\n",
            "16    1.1\n",
            "24    1.2\n",
            "Name: Eggs, dtype: float64\n",
            "\n",
            "No outliers detected in column 'Milk'\n",
            "\n",
            "Outliers detected in column 'Fish':\n",
            "16    14.2\n",
            "Name: Fish, dtype: float64\n",
            "\n",
            "No outliers detected in column 'Cereals'\n",
            "\n",
            "No outliers detected in column 'Starch'\n",
            "\n",
            "No outliers detected in column 'Nuts'\n",
            "\n",
            "No outliers detected in column 'Fr&Veg'\n",
            "\n"
          ]
        }
      ]
    },
    {
      "cell_type": "markdown",
      "source": [
        "It shows that there are outliers in the dataset.\n",
        "\n",
        "Outliers indicate various things in the dataset.It could indicate variability in the dataset, errors in data collection measurement or entry, presence of subpopulation in the data , influential observations etc."
      ],
      "metadata": {
        "id": "1A8i_hMcAIgG"
      }
    },
    {
      "cell_type": "code",
      "source": [
        "# Basic statistics for numerical columns\n",
        "print(\"\\nBasic statistics for numerical columns:\")\n",
        "df.describe()"
      ],
      "metadata": {
        "colab": {
          "base_uri": "https://localhost:8080/",
          "height": 335
        },
        "id": "U8AIcRTTjwt8",
        "outputId": "6ee508ff-83af-42f0-f39e-c786aec1e8e2"
      },
      "execution_count": 10,
      "outputs": [
        {
          "output_type": "stream",
          "name": "stdout",
          "text": [
            "\n",
            "Basic statistics for numerical columns:\n"
          ]
        },
        {
          "output_type": "execute_result",
          "data": {
            "text/plain": [
              "         RedMeat  WhiteMeat       Eggs       Milk       Fish    Cereals  \\\n",
              "count  25.000000  25.000000  25.000000  25.000000  25.000000  25.000000   \n",
              "mean    9.828000   7.896000   2.936000  17.112000   4.284000  32.248000   \n",
              "std     3.347078   3.694081   1.117617   7.105416   3.402533  10.974786   \n",
              "min     4.400000   1.400000   0.500000   4.900000   0.200000  18.600000   \n",
              "25%     7.800000   4.900000   2.700000  11.100000   2.100000  24.300000   \n",
              "50%     9.500000   7.800000   2.900000  17.600000   3.400000  28.000000   \n",
              "75%    10.600000  10.800000   3.700000  23.300000   5.800000  40.100000   \n",
              "max    18.000000  14.000000   4.700000  33.700000  14.200000  56.700000   \n",
              "\n",
              "          Starch       Nuts     Fr&Veg  \n",
              "count  25.000000  25.000000  25.000000  \n",
              "mean    4.276000   3.072000   4.136000  \n",
              "std     1.634085   1.985682   1.803903  \n",
              "min     0.600000   0.700000   1.400000  \n",
              "25%     3.100000   1.500000   2.900000  \n",
              "50%     4.700000   2.400000   3.800000  \n",
              "75%     5.700000   4.700000   4.900000  \n",
              "max     6.500000   7.800000   7.900000  "
            ],
            "text/html": [
              "\n",
              "  <div id=\"df-27eb8bc9-4d4d-447b-b2c1-b28f379c7274\" class=\"colab-df-container\">\n",
              "    <div>\n",
              "<style scoped>\n",
              "    .dataframe tbody tr th:only-of-type {\n",
              "        vertical-align: middle;\n",
              "    }\n",
              "\n",
              "    .dataframe tbody tr th {\n",
              "        vertical-align: top;\n",
              "    }\n",
              "\n",
              "    .dataframe thead th {\n",
              "        text-align: right;\n",
              "    }\n",
              "</style>\n",
              "<table border=\"1\" class=\"dataframe\">\n",
              "  <thead>\n",
              "    <tr style=\"text-align: right;\">\n",
              "      <th></th>\n",
              "      <th>RedMeat</th>\n",
              "      <th>WhiteMeat</th>\n",
              "      <th>Eggs</th>\n",
              "      <th>Milk</th>\n",
              "      <th>Fish</th>\n",
              "      <th>Cereals</th>\n",
              "      <th>Starch</th>\n",
              "      <th>Nuts</th>\n",
              "      <th>Fr&amp;Veg</th>\n",
              "    </tr>\n",
              "  </thead>\n",
              "  <tbody>\n",
              "    <tr>\n",
              "      <th>count</th>\n",
              "      <td>25.000000</td>\n",
              "      <td>25.000000</td>\n",
              "      <td>25.000000</td>\n",
              "      <td>25.000000</td>\n",
              "      <td>25.000000</td>\n",
              "      <td>25.000000</td>\n",
              "      <td>25.000000</td>\n",
              "      <td>25.000000</td>\n",
              "      <td>25.000000</td>\n",
              "    </tr>\n",
              "    <tr>\n",
              "      <th>mean</th>\n",
              "      <td>9.828000</td>\n",
              "      <td>7.896000</td>\n",
              "      <td>2.936000</td>\n",
              "      <td>17.112000</td>\n",
              "      <td>4.284000</td>\n",
              "      <td>32.248000</td>\n",
              "      <td>4.276000</td>\n",
              "      <td>3.072000</td>\n",
              "      <td>4.136000</td>\n",
              "    </tr>\n",
              "    <tr>\n",
              "      <th>std</th>\n",
              "      <td>3.347078</td>\n",
              "      <td>3.694081</td>\n",
              "      <td>1.117617</td>\n",
              "      <td>7.105416</td>\n",
              "      <td>3.402533</td>\n",
              "      <td>10.974786</td>\n",
              "      <td>1.634085</td>\n",
              "      <td>1.985682</td>\n",
              "      <td>1.803903</td>\n",
              "    </tr>\n",
              "    <tr>\n",
              "      <th>min</th>\n",
              "      <td>4.400000</td>\n",
              "      <td>1.400000</td>\n",
              "      <td>0.500000</td>\n",
              "      <td>4.900000</td>\n",
              "      <td>0.200000</td>\n",
              "      <td>18.600000</td>\n",
              "      <td>0.600000</td>\n",
              "      <td>0.700000</td>\n",
              "      <td>1.400000</td>\n",
              "    </tr>\n",
              "    <tr>\n",
              "      <th>25%</th>\n",
              "      <td>7.800000</td>\n",
              "      <td>4.900000</td>\n",
              "      <td>2.700000</td>\n",
              "      <td>11.100000</td>\n",
              "      <td>2.100000</td>\n",
              "      <td>24.300000</td>\n",
              "      <td>3.100000</td>\n",
              "      <td>1.500000</td>\n",
              "      <td>2.900000</td>\n",
              "    </tr>\n",
              "    <tr>\n",
              "      <th>50%</th>\n",
              "      <td>9.500000</td>\n",
              "      <td>7.800000</td>\n",
              "      <td>2.900000</td>\n",
              "      <td>17.600000</td>\n",
              "      <td>3.400000</td>\n",
              "      <td>28.000000</td>\n",
              "      <td>4.700000</td>\n",
              "      <td>2.400000</td>\n",
              "      <td>3.800000</td>\n",
              "    </tr>\n",
              "    <tr>\n",
              "      <th>75%</th>\n",
              "      <td>10.600000</td>\n",
              "      <td>10.800000</td>\n",
              "      <td>3.700000</td>\n",
              "      <td>23.300000</td>\n",
              "      <td>5.800000</td>\n",
              "      <td>40.100000</td>\n",
              "      <td>5.700000</td>\n",
              "      <td>4.700000</td>\n",
              "      <td>4.900000</td>\n",
              "    </tr>\n",
              "    <tr>\n",
              "      <th>max</th>\n",
              "      <td>18.000000</td>\n",
              "      <td>14.000000</td>\n",
              "      <td>4.700000</td>\n",
              "      <td>33.700000</td>\n",
              "      <td>14.200000</td>\n",
              "      <td>56.700000</td>\n",
              "      <td>6.500000</td>\n",
              "      <td>7.800000</td>\n",
              "      <td>7.900000</td>\n",
              "    </tr>\n",
              "  </tbody>\n",
              "</table>\n",
              "</div>\n",
              "    <div class=\"colab-df-buttons\">\n",
              "\n",
              "  <div class=\"colab-df-container\">\n",
              "    <button class=\"colab-df-convert\" onclick=\"convertToInteractive('df-27eb8bc9-4d4d-447b-b2c1-b28f379c7274')\"\n",
              "            title=\"Convert this dataframe to an interactive table.\"\n",
              "            style=\"display:none;\">\n",
              "\n",
              "  <svg xmlns=\"http://www.w3.org/2000/svg\" height=\"24px\" viewBox=\"0 -960 960 960\">\n",
              "    <path d=\"M120-120v-720h720v720H120Zm60-500h600v-160H180v160Zm220 220h160v-160H400v160Zm0 220h160v-160H400v160ZM180-400h160v-160H180v160Zm440 0h160v-160H620v160ZM180-180h160v-160H180v160Zm440 0h160v-160H620v160Z\"/>\n",
              "  </svg>\n",
              "    </button>\n",
              "\n",
              "  <style>\n",
              "    .colab-df-container {\n",
              "      display:flex;\n",
              "      gap: 12px;\n",
              "    }\n",
              "\n",
              "    .colab-df-convert {\n",
              "      background-color: #E8F0FE;\n",
              "      border: none;\n",
              "      border-radius: 50%;\n",
              "      cursor: pointer;\n",
              "      display: none;\n",
              "      fill: #1967D2;\n",
              "      height: 32px;\n",
              "      padding: 0 0 0 0;\n",
              "      width: 32px;\n",
              "    }\n",
              "\n",
              "    .colab-df-convert:hover {\n",
              "      background-color: #E2EBFA;\n",
              "      box-shadow: 0px 1px 2px rgba(60, 64, 67, 0.3), 0px 1px 3px 1px rgba(60, 64, 67, 0.15);\n",
              "      fill: #174EA6;\n",
              "    }\n",
              "\n",
              "    .colab-df-buttons div {\n",
              "      margin-bottom: 4px;\n",
              "    }\n",
              "\n",
              "    [theme=dark] .colab-df-convert {\n",
              "      background-color: #3B4455;\n",
              "      fill: #D2E3FC;\n",
              "    }\n",
              "\n",
              "    [theme=dark] .colab-df-convert:hover {\n",
              "      background-color: #434B5C;\n",
              "      box-shadow: 0px 1px 3px 1px rgba(0, 0, 0, 0.15);\n",
              "      filter: drop-shadow(0px 1px 2px rgba(0, 0, 0, 0.3));\n",
              "      fill: #FFFFFF;\n",
              "    }\n",
              "  </style>\n",
              "\n",
              "    <script>\n",
              "      const buttonEl =\n",
              "        document.querySelector('#df-27eb8bc9-4d4d-447b-b2c1-b28f379c7274 button.colab-df-convert');\n",
              "      buttonEl.style.display =\n",
              "        google.colab.kernel.accessAllowed ? 'block' : 'none';\n",
              "\n",
              "      async function convertToInteractive(key) {\n",
              "        const element = document.querySelector('#df-27eb8bc9-4d4d-447b-b2c1-b28f379c7274');\n",
              "        const dataTable =\n",
              "          await google.colab.kernel.invokeFunction('convertToInteractive',\n",
              "                                                    [key], {});\n",
              "        if (!dataTable) return;\n",
              "\n",
              "        const docLinkHtml = 'Like what you see? Visit the ' +\n",
              "          '<a target=\"_blank\" href=https://colab.research.google.com/notebooks/data_table.ipynb>data table notebook</a>'\n",
              "          + ' to learn more about interactive tables.';\n",
              "        element.innerHTML = '';\n",
              "        dataTable['output_type'] = 'display_data';\n",
              "        await google.colab.output.renderOutput(dataTable, element);\n",
              "        const docLink = document.createElement('div');\n",
              "        docLink.innerHTML = docLinkHtml;\n",
              "        element.appendChild(docLink);\n",
              "      }\n",
              "    </script>\n",
              "  </div>\n",
              "\n",
              "\n",
              "<div id=\"df-c82bd2a4-52cd-4062-a632-07c758f5acd6\">\n",
              "  <button class=\"colab-df-quickchart\" onclick=\"quickchart('df-c82bd2a4-52cd-4062-a632-07c758f5acd6')\"\n",
              "            title=\"Suggest charts\"\n",
              "            style=\"display:none;\">\n",
              "\n",
              "<svg xmlns=\"http://www.w3.org/2000/svg\" height=\"24px\"viewBox=\"0 0 24 24\"\n",
              "     width=\"24px\">\n",
              "    <g>\n",
              "        <path d=\"M19 3H5c-1.1 0-2 .9-2 2v14c0 1.1.9 2 2 2h14c1.1 0 2-.9 2-2V5c0-1.1-.9-2-2-2zM9 17H7v-7h2v7zm4 0h-2V7h2v10zm4 0h-2v-4h2v4z\"/>\n",
              "    </g>\n",
              "</svg>\n",
              "  </button>\n",
              "\n",
              "<style>\n",
              "  .colab-df-quickchart {\n",
              "      --bg-color: #E8F0FE;\n",
              "      --fill-color: #1967D2;\n",
              "      --hover-bg-color: #E2EBFA;\n",
              "      --hover-fill-color: #174EA6;\n",
              "      --disabled-fill-color: #AAA;\n",
              "      --disabled-bg-color: #DDD;\n",
              "  }\n",
              "\n",
              "  [theme=dark] .colab-df-quickchart {\n",
              "      --bg-color: #3B4455;\n",
              "      --fill-color: #D2E3FC;\n",
              "      --hover-bg-color: #434B5C;\n",
              "      --hover-fill-color: #FFFFFF;\n",
              "      --disabled-bg-color: #3B4455;\n",
              "      --disabled-fill-color: #666;\n",
              "  }\n",
              "\n",
              "  .colab-df-quickchart {\n",
              "    background-color: var(--bg-color);\n",
              "    border: none;\n",
              "    border-radius: 50%;\n",
              "    cursor: pointer;\n",
              "    display: none;\n",
              "    fill: var(--fill-color);\n",
              "    height: 32px;\n",
              "    padding: 0;\n",
              "    width: 32px;\n",
              "  }\n",
              "\n",
              "  .colab-df-quickchart:hover {\n",
              "    background-color: var(--hover-bg-color);\n",
              "    box-shadow: 0 1px 2px rgba(60, 64, 67, 0.3), 0 1px 3px 1px rgba(60, 64, 67, 0.15);\n",
              "    fill: var(--button-hover-fill-color);\n",
              "  }\n",
              "\n",
              "  .colab-df-quickchart-complete:disabled,\n",
              "  .colab-df-quickchart-complete:disabled:hover {\n",
              "    background-color: var(--disabled-bg-color);\n",
              "    fill: var(--disabled-fill-color);\n",
              "    box-shadow: none;\n",
              "  }\n",
              "\n",
              "  .colab-df-spinner {\n",
              "    border: 2px solid var(--fill-color);\n",
              "    border-color: transparent;\n",
              "    border-bottom-color: var(--fill-color);\n",
              "    animation:\n",
              "      spin 1s steps(1) infinite;\n",
              "  }\n",
              "\n",
              "  @keyframes spin {\n",
              "    0% {\n",
              "      border-color: transparent;\n",
              "      border-bottom-color: var(--fill-color);\n",
              "      border-left-color: var(--fill-color);\n",
              "    }\n",
              "    20% {\n",
              "      border-color: transparent;\n",
              "      border-left-color: var(--fill-color);\n",
              "      border-top-color: var(--fill-color);\n",
              "    }\n",
              "    30% {\n",
              "      border-color: transparent;\n",
              "      border-left-color: var(--fill-color);\n",
              "      border-top-color: var(--fill-color);\n",
              "      border-right-color: var(--fill-color);\n",
              "    }\n",
              "    40% {\n",
              "      border-color: transparent;\n",
              "      border-right-color: var(--fill-color);\n",
              "      border-top-color: var(--fill-color);\n",
              "    }\n",
              "    60% {\n",
              "      border-color: transparent;\n",
              "      border-right-color: var(--fill-color);\n",
              "    }\n",
              "    80% {\n",
              "      border-color: transparent;\n",
              "      border-right-color: var(--fill-color);\n",
              "      border-bottom-color: var(--fill-color);\n",
              "    }\n",
              "    90% {\n",
              "      border-color: transparent;\n",
              "      border-bottom-color: var(--fill-color);\n",
              "    }\n",
              "  }\n",
              "</style>\n",
              "\n",
              "  <script>\n",
              "    async function quickchart(key) {\n",
              "      const quickchartButtonEl =\n",
              "        document.querySelector('#' + key + ' button');\n",
              "      quickchartButtonEl.disabled = true;  // To prevent multiple clicks.\n",
              "      quickchartButtonEl.classList.add('colab-df-spinner');\n",
              "      try {\n",
              "        const charts = await google.colab.kernel.invokeFunction(\n",
              "            'suggestCharts', [key], {});\n",
              "      } catch (error) {\n",
              "        console.error('Error during call to suggestCharts:', error);\n",
              "      }\n",
              "      quickchartButtonEl.classList.remove('colab-df-spinner');\n",
              "      quickchartButtonEl.classList.add('colab-df-quickchart-complete');\n",
              "    }\n",
              "    (() => {\n",
              "      let quickchartButtonEl =\n",
              "        document.querySelector('#df-c82bd2a4-52cd-4062-a632-07c758f5acd6 button');\n",
              "      quickchartButtonEl.style.display =\n",
              "        google.colab.kernel.accessAllowed ? 'block' : 'none';\n",
              "    })();\n",
              "  </script>\n",
              "</div>\n",
              "\n",
              "    </div>\n",
              "  </div>\n"
            ],
            "application/vnd.google.colaboratory.intrinsic+json": {
              "type": "dataframe",
              "summary": "{\n  \"name\": \"df\",\n  \"rows\": 8,\n  \"fields\": [\n    {\n      \"column\": \"RedMeat\",\n      \"properties\": {\n        \"dtype\": \"number\",\n        \"std\": 7.182544134333603,\n        \"min\": 3.3470783279351757,\n        \"max\": 25.0,\n        \"num_unique_values\": 8,\n        \"samples\": [\n          9.828000000000001,\n          9.5,\n          25.0\n        ],\n        \"semantic_type\": \"\",\n        \"description\": \"\"\n      }\n    },\n    {\n      \"column\": \"WhiteMeat\",\n      \"properties\": {\n        \"dtype\": \"number\",\n        \"std\": 7.44598656010662,\n        \"min\": 1.4,\n        \"max\": 25.0,\n        \"num_unique_values\": 8,\n        \"samples\": [\n          7.896,\n          7.8,\n          25.0\n        ],\n        \"semantic_type\": \"\",\n        \"description\": \"\"\n      }\n    },\n    {\n      \"column\": \"Eggs\",\n      \"properties\": {\n        \"dtype\": \"number\",\n        \"std\": 8.013243268519892,\n        \"min\": 0.5,\n        \"max\": 25.0,\n        \"num_unique_values\": 8,\n        \"samples\": [\n          2.9359999999999995,\n          2.9,\n          25.0\n        ],\n        \"semantic_type\": \"\",\n        \"description\": \"\"\n      }\n    },\n    {\n      \"column\": \"Milk\",\n      \"properties\": {\n        \"dtype\": \"number\",\n        \"std\": 9.71194962102323,\n        \"min\": 4.9,\n        \"max\": 33.7,\n        \"num_unique_values\": 8,\n        \"samples\": [\n          17.112000000000002,\n          17.6,\n          25.0\n        ],\n        \"semantic_type\": \"\",\n        \"description\": \"\"\n      }\n    },\n    {\n      \"column\": \"Fish\",\n      \"properties\": {\n        \"dtype\": \"number\",\n        \"std\": 8.281618884734344,\n        \"min\": 0.2,\n        \"max\": 25.0,\n        \"num_unique_values\": 8,\n        \"samples\": [\n          4.284,\n          3.4,\n          25.0\n        ],\n        \"semantic_type\": \"\",\n        \"description\": \"\"\n      }\n    },\n    {\n      \"column\": \"Cereals\",\n      \"properties\": {\n        \"dtype\": \"number\",\n        \"std\": 13.99634800872222,\n        \"min\": 10.974786254562469,\n        \"max\": 56.7,\n        \"num_unique_values\": 8,\n        \"samples\": [\n          32.248000000000005,\n          28.0,\n          25.0\n        ],\n        \"semantic_type\": \"\",\n        \"description\": \"\"\n      }\n    },\n    {\n      \"column\": \"Starch\",\n      \"properties\": {\n        \"dtype\": \"number\",\n        \"std\": 7.756041921655959,\n        \"min\": 0.6,\n        \"max\": 25.0,\n        \"num_unique_values\": 8,\n        \"samples\": [\n          4.276,\n          4.7,\n          25.0\n        ],\n        \"semantic_type\": \"\",\n        \"description\": \"\"\n      }\n    },\n    {\n      \"column\": \"Nuts\",\n      \"properties\": {\n        \"dtype\": \"number\",\n        \"std\": 8.034116938828241,\n        \"min\": 0.7,\n        \"max\": 25.0,\n        \"num_unique_values\": 8,\n        \"samples\": [\n          3.072,\n          2.4,\n          25.0\n        ],\n        \"semantic_type\": \"\",\n        \"description\": \"\"\n      }\n    },\n    {\n      \"column\": \"Fr&Veg\",\n      \"properties\": {\n        \"dtype\": \"number\",\n        \"std\": 7.752129822651503,\n        \"min\": 1.4,\n        \"max\": 25.0,\n        \"num_unique_values\": 8,\n        \"samples\": [\n          4.136,\n          3.8,\n          25.0\n        ],\n        \"semantic_type\": \"\",\n        \"description\": \"\"\n      }\n    }\n  ]\n}"
            }
          },
          "metadata": {},
          "execution_count": 10
        }
      ]
    },
    {
      "cell_type": "markdown",
      "source": [
        "The data reveals the summary statitistics of the data that is:\n",
        "the count,\n",
        "the mean which is the average value of the dataset,the standard deviation which is  The square root of the variance. It gives a measure of the average distance of the data points from the mean,\n",
        "minimum and maximum value of the dataset,\n",
        "25th percentile that is the lower quartile,\n",
        "50th percentile that is the median.It is middle value when the data is ordered and 75th percentile that is the upper quartile."
      ],
      "metadata": {
        "id": "84qJSVM3ID0a"
      }
    },
    {
      "cell_type": "code",
      "source": [
        "# Basic statistics for categorical columns\n",
        "print(\"\\nBasic statistics for categorical columns:\")\n",
        "df.describe(include=['O'])"
      ],
      "metadata": {
        "colab": {
          "base_uri": "https://localhost:8080/",
          "height": 210
        },
        "id": "aTM5u4bLlAV7",
        "outputId": "1da07d70-f929-4209-d03d-2a36975a5ea0"
      },
      "execution_count": 11,
      "outputs": [
        {
          "output_type": "stream",
          "name": "stdout",
          "text": [
            "\n",
            "Basic statistics for categorical columns:\n"
          ]
        },
        {
          "output_type": "execute_result",
          "data": {
            "text/plain": [
              "        Country\n",
              "count        25\n",
              "unique       25\n",
              "top     Albania\n",
              "freq          1"
            ],
            "text/html": [
              "\n",
              "  <div id=\"df-8a7e14e1-0f27-43d7-9e70-91854d95dc52\" class=\"colab-df-container\">\n",
              "    <div>\n",
              "<style scoped>\n",
              "    .dataframe tbody tr th:only-of-type {\n",
              "        vertical-align: middle;\n",
              "    }\n",
              "\n",
              "    .dataframe tbody tr th {\n",
              "        vertical-align: top;\n",
              "    }\n",
              "\n",
              "    .dataframe thead th {\n",
              "        text-align: right;\n",
              "    }\n",
              "</style>\n",
              "<table border=\"1\" class=\"dataframe\">\n",
              "  <thead>\n",
              "    <tr style=\"text-align: right;\">\n",
              "      <th></th>\n",
              "      <th>Country</th>\n",
              "    </tr>\n",
              "  </thead>\n",
              "  <tbody>\n",
              "    <tr>\n",
              "      <th>count</th>\n",
              "      <td>25</td>\n",
              "    </tr>\n",
              "    <tr>\n",
              "      <th>unique</th>\n",
              "      <td>25</td>\n",
              "    </tr>\n",
              "    <tr>\n",
              "      <th>top</th>\n",
              "      <td>Albania</td>\n",
              "    </tr>\n",
              "    <tr>\n",
              "      <th>freq</th>\n",
              "      <td>1</td>\n",
              "    </tr>\n",
              "  </tbody>\n",
              "</table>\n",
              "</div>\n",
              "    <div class=\"colab-df-buttons\">\n",
              "\n",
              "  <div class=\"colab-df-container\">\n",
              "    <button class=\"colab-df-convert\" onclick=\"convertToInteractive('df-8a7e14e1-0f27-43d7-9e70-91854d95dc52')\"\n",
              "            title=\"Convert this dataframe to an interactive table.\"\n",
              "            style=\"display:none;\">\n",
              "\n",
              "  <svg xmlns=\"http://www.w3.org/2000/svg\" height=\"24px\" viewBox=\"0 -960 960 960\">\n",
              "    <path d=\"M120-120v-720h720v720H120Zm60-500h600v-160H180v160Zm220 220h160v-160H400v160Zm0 220h160v-160H400v160ZM180-400h160v-160H180v160Zm440 0h160v-160H620v160ZM180-180h160v-160H180v160Zm440 0h160v-160H620v160Z\"/>\n",
              "  </svg>\n",
              "    </button>\n",
              "\n",
              "  <style>\n",
              "    .colab-df-container {\n",
              "      display:flex;\n",
              "      gap: 12px;\n",
              "    }\n",
              "\n",
              "    .colab-df-convert {\n",
              "      background-color: #E8F0FE;\n",
              "      border: none;\n",
              "      border-radius: 50%;\n",
              "      cursor: pointer;\n",
              "      display: none;\n",
              "      fill: #1967D2;\n",
              "      height: 32px;\n",
              "      padding: 0 0 0 0;\n",
              "      width: 32px;\n",
              "    }\n",
              "\n",
              "    .colab-df-convert:hover {\n",
              "      background-color: #E2EBFA;\n",
              "      box-shadow: 0px 1px 2px rgba(60, 64, 67, 0.3), 0px 1px 3px 1px rgba(60, 64, 67, 0.15);\n",
              "      fill: #174EA6;\n",
              "    }\n",
              "\n",
              "    .colab-df-buttons div {\n",
              "      margin-bottom: 4px;\n",
              "    }\n",
              "\n",
              "    [theme=dark] .colab-df-convert {\n",
              "      background-color: #3B4455;\n",
              "      fill: #D2E3FC;\n",
              "    }\n",
              "\n",
              "    [theme=dark] .colab-df-convert:hover {\n",
              "      background-color: #434B5C;\n",
              "      box-shadow: 0px 1px 3px 1px rgba(0, 0, 0, 0.15);\n",
              "      filter: drop-shadow(0px 1px 2px rgba(0, 0, 0, 0.3));\n",
              "      fill: #FFFFFF;\n",
              "    }\n",
              "  </style>\n",
              "\n",
              "    <script>\n",
              "      const buttonEl =\n",
              "        document.querySelector('#df-8a7e14e1-0f27-43d7-9e70-91854d95dc52 button.colab-df-convert');\n",
              "      buttonEl.style.display =\n",
              "        google.colab.kernel.accessAllowed ? 'block' : 'none';\n",
              "\n",
              "      async function convertToInteractive(key) {\n",
              "        const element = document.querySelector('#df-8a7e14e1-0f27-43d7-9e70-91854d95dc52');\n",
              "        const dataTable =\n",
              "          await google.colab.kernel.invokeFunction('convertToInteractive',\n",
              "                                                    [key], {});\n",
              "        if (!dataTable) return;\n",
              "\n",
              "        const docLinkHtml = 'Like what you see? Visit the ' +\n",
              "          '<a target=\"_blank\" href=https://colab.research.google.com/notebooks/data_table.ipynb>data table notebook</a>'\n",
              "          + ' to learn more about interactive tables.';\n",
              "        element.innerHTML = '';\n",
              "        dataTable['output_type'] = 'display_data';\n",
              "        await google.colab.output.renderOutput(dataTable, element);\n",
              "        const docLink = document.createElement('div');\n",
              "        docLink.innerHTML = docLinkHtml;\n",
              "        element.appendChild(docLink);\n",
              "      }\n",
              "    </script>\n",
              "  </div>\n",
              "\n",
              "\n",
              "<div id=\"df-cf20979d-269a-4a8d-b949-afc8bfdb7cff\">\n",
              "  <button class=\"colab-df-quickchart\" onclick=\"quickchart('df-cf20979d-269a-4a8d-b949-afc8bfdb7cff')\"\n",
              "            title=\"Suggest charts\"\n",
              "            style=\"display:none;\">\n",
              "\n",
              "<svg xmlns=\"http://www.w3.org/2000/svg\" height=\"24px\"viewBox=\"0 0 24 24\"\n",
              "     width=\"24px\">\n",
              "    <g>\n",
              "        <path d=\"M19 3H5c-1.1 0-2 .9-2 2v14c0 1.1.9 2 2 2h14c1.1 0 2-.9 2-2V5c0-1.1-.9-2-2-2zM9 17H7v-7h2v7zm4 0h-2V7h2v10zm4 0h-2v-4h2v4z\"/>\n",
              "    </g>\n",
              "</svg>\n",
              "  </button>\n",
              "\n",
              "<style>\n",
              "  .colab-df-quickchart {\n",
              "      --bg-color: #E8F0FE;\n",
              "      --fill-color: #1967D2;\n",
              "      --hover-bg-color: #E2EBFA;\n",
              "      --hover-fill-color: #174EA6;\n",
              "      --disabled-fill-color: #AAA;\n",
              "      --disabled-bg-color: #DDD;\n",
              "  }\n",
              "\n",
              "  [theme=dark] .colab-df-quickchart {\n",
              "      --bg-color: #3B4455;\n",
              "      --fill-color: #D2E3FC;\n",
              "      --hover-bg-color: #434B5C;\n",
              "      --hover-fill-color: #FFFFFF;\n",
              "      --disabled-bg-color: #3B4455;\n",
              "      --disabled-fill-color: #666;\n",
              "  }\n",
              "\n",
              "  .colab-df-quickchart {\n",
              "    background-color: var(--bg-color);\n",
              "    border: none;\n",
              "    border-radius: 50%;\n",
              "    cursor: pointer;\n",
              "    display: none;\n",
              "    fill: var(--fill-color);\n",
              "    height: 32px;\n",
              "    padding: 0;\n",
              "    width: 32px;\n",
              "  }\n",
              "\n",
              "  .colab-df-quickchart:hover {\n",
              "    background-color: var(--hover-bg-color);\n",
              "    box-shadow: 0 1px 2px rgba(60, 64, 67, 0.3), 0 1px 3px 1px rgba(60, 64, 67, 0.15);\n",
              "    fill: var(--button-hover-fill-color);\n",
              "  }\n",
              "\n",
              "  .colab-df-quickchart-complete:disabled,\n",
              "  .colab-df-quickchart-complete:disabled:hover {\n",
              "    background-color: var(--disabled-bg-color);\n",
              "    fill: var(--disabled-fill-color);\n",
              "    box-shadow: none;\n",
              "  }\n",
              "\n",
              "  .colab-df-spinner {\n",
              "    border: 2px solid var(--fill-color);\n",
              "    border-color: transparent;\n",
              "    border-bottom-color: var(--fill-color);\n",
              "    animation:\n",
              "      spin 1s steps(1) infinite;\n",
              "  }\n",
              "\n",
              "  @keyframes spin {\n",
              "    0% {\n",
              "      border-color: transparent;\n",
              "      border-bottom-color: var(--fill-color);\n",
              "      border-left-color: var(--fill-color);\n",
              "    }\n",
              "    20% {\n",
              "      border-color: transparent;\n",
              "      border-left-color: var(--fill-color);\n",
              "      border-top-color: var(--fill-color);\n",
              "    }\n",
              "    30% {\n",
              "      border-color: transparent;\n",
              "      border-left-color: var(--fill-color);\n",
              "      border-top-color: var(--fill-color);\n",
              "      border-right-color: var(--fill-color);\n",
              "    }\n",
              "    40% {\n",
              "      border-color: transparent;\n",
              "      border-right-color: var(--fill-color);\n",
              "      border-top-color: var(--fill-color);\n",
              "    }\n",
              "    60% {\n",
              "      border-color: transparent;\n",
              "      border-right-color: var(--fill-color);\n",
              "    }\n",
              "    80% {\n",
              "      border-color: transparent;\n",
              "      border-right-color: var(--fill-color);\n",
              "      border-bottom-color: var(--fill-color);\n",
              "    }\n",
              "    90% {\n",
              "      border-color: transparent;\n",
              "      border-bottom-color: var(--fill-color);\n",
              "    }\n",
              "  }\n",
              "</style>\n",
              "\n",
              "  <script>\n",
              "    async function quickchart(key) {\n",
              "      const quickchartButtonEl =\n",
              "        document.querySelector('#' + key + ' button');\n",
              "      quickchartButtonEl.disabled = true;  // To prevent multiple clicks.\n",
              "      quickchartButtonEl.classList.add('colab-df-spinner');\n",
              "      try {\n",
              "        const charts = await google.colab.kernel.invokeFunction(\n",
              "            'suggestCharts', [key], {});\n",
              "      } catch (error) {\n",
              "        console.error('Error during call to suggestCharts:', error);\n",
              "      }\n",
              "      quickchartButtonEl.classList.remove('colab-df-spinner');\n",
              "      quickchartButtonEl.classList.add('colab-df-quickchart-complete');\n",
              "    }\n",
              "    (() => {\n",
              "      let quickchartButtonEl =\n",
              "        document.querySelector('#df-cf20979d-269a-4a8d-b949-afc8bfdb7cff button');\n",
              "      quickchartButtonEl.style.display =\n",
              "        google.colab.kernel.accessAllowed ? 'block' : 'none';\n",
              "    })();\n",
              "  </script>\n",
              "</div>\n",
              "\n",
              "    </div>\n",
              "  </div>\n"
            ],
            "application/vnd.google.colaboratory.intrinsic+json": {
              "type": "dataframe",
              "summary": "{\n  \"name\": \"df\",\n  \"rows\": 4,\n  \"fields\": [\n    {\n      \"column\": \"Country\",\n      \"properties\": {\n        \"dtype\": \"string\",\n        \"num_unique_values\": 3,\n        \"samples\": [\n          \"25\",\n          \"Albania\",\n          \"1\"\n        ],\n        \"semantic_type\": \"\",\n        \"description\": \"\"\n      }\n    }\n  ]\n}"
            }
          },
          "metadata": {},
          "execution_count": 11
        }
      ]
    },
    {
      "cell_type": "markdown",
      "source": [
        "This gives the summary statistics of categorical data"
      ],
      "metadata": {
        "id": "Y-WIMfyD9-kc"
      }
    },
    {
      "cell_type": "markdown",
      "source": [
        "**DATA CLEANING**"
      ],
      "metadata": {
        "id": "5PuaAUR0IC3t"
      }
    },
    {
      "cell_type": "code",
      "source": [
        "#Removing outliers\n",
        "def remove_outliers_iqr(df, column):\n",
        "    Q1 = df[column].quantile(0.25)\n",
        "    Q3 = df[column].quantile(0.75)\n",
        "    IQR = Q3 - Q1\n",
        "    lower_bound = Q1 - 1.5 * IQR\n",
        "    upper_bound = Q3 + 1.5 * IQR\n",
        "    df_cleaned = df[(df[column] >= lower_bound) & (df[column] <= upper_bound)]\n",
        "    return df_cleaned\n",
        "\n",
        "# Remove outliers from the specified column\n",
        "df_no_outliers = remove_outliers_iqr(df,column)\n",
        "print(f\"Data shape after removing outliers: {df_no_outliers.shape}\")"
      ],
      "metadata": {
        "colab": {
          "base_uri": "https://localhost:8080/"
        },
        "id": "cMp4pq1OIwV9",
        "outputId": "19ec4e76-02e1-4d53-c2d8-f3da6d3ee213"
      },
      "execution_count": 12,
      "outputs": [
        {
          "output_type": "stream",
          "name": "stdout",
          "text": [
            "Data shape after removing outliers: (25, 10)\n"
          ]
        }
      ]
    },
    {
      "cell_type": "markdown",
      "source": [
        "I was not able to remove outliers the shape of the dataset remained the same even after removing them"
      ],
      "metadata": {
        "id": "0cUUAHioI2HU"
      }
    },
    {
      "cell_type": "markdown",
      "source": [
        "# **E.D.A**"
      ],
      "metadata": {
        "id": "k1KukXXeJq5s"
      }
    },
    {
      "cell_type": "code",
      "source": [
        "import matplotlib.pyplot as plt\n",
        "import seaborn as sns"
      ],
      "metadata": {
        "id": "zAvcubCslE08"
      },
      "execution_count": 13,
      "outputs": []
    },
    {
      "cell_type": "code",
      "source": [
        "# Melt the dataset to long format for easy plotting\n",
        "melted_data = df.melt(id_vars=['Country'], var_name='Food Category', value_name='Consumption')\n",
        "\n",
        "# Plotting histograms for each category\n",
        "categories = melted_data['Food Category'].unique()\n",
        "plt.figure(figsize=(20, 12))\n",
        "\n",
        "for i, category in enumerate(categories, 1):\n",
        "    plt.subplot(3, 3, i)  # 3x3 grid for 9 categories\n",
        "    sns.histplot(melted_data[melted_data['Food Category'] == category]['Consumption'], bins=10, kde=True)\n",
        "    plt.title(f'Distribution of {category}')\n",
        "    plt.xlabel('Consumption (grams per person per day)')\n",
        "    plt.ylabel('frequency')\n",
        "\n",
        "plt.tight_layout()\n",
        "plt.show()"
      ],
      "metadata": {
        "colab": {
          "base_uri": "https://localhost:8080/",
          "height": 1000
        },
        "id": "Fd-YG2QWmDNT",
        "outputId": "97cc93fa-bc20-4d6b-ac2b-a9c4214dc05b"
      },
      "execution_count": 14,
      "outputs": [
        {
          "output_type": "display_data",
          "data": {
            "text/plain": [
              "<Figure size 2000x1200 with 9 Axes>"
            ],
            "image/png": "[encoded data removed]"
          },
          "metadata": {}
        }
      ]
    },
    {
      "cell_type": "markdown",
      "source": [
        "The distribution of the level of protein consumed in each food type per day is shown."
      ],
      "metadata": {
        "id": "Vs8MjlOaLXcu"
      }
    },
    {
      "cell_type": "code",
      "source": [
        "# Exclude the non-numeric 'Country' column for correlation calculation\n",
        "numeric_data = df.drop(columns=['Country'])\n",
        "\n",
        "# Calculate the correlation matrix\n",
        "correlation_matrix = numeric_data.corr()\n",
        "\n",
        "# Plot the heatmap\n",
        "plt.figure(figsize=(10, 8))\n",
        "sns.heatmap(correlation_matrix, annot=True, cmap='coolwarm', fmt='.2f')\n",
        "plt.title('Correlation Matrix')\n",
        "plt.show()"
      ],
      "metadata": {
        "colab": {
          "base_uri": "https://localhost:8080/",
          "height": 699
        },
        "id": "eqdO6c_4sa-E",
        "outputId": "e22f1e19-79d6-4398-89fb-0a4177fc8761"
      },
      "execution_count": 15,
      "outputs": [
        {
          "output_type": "display_data",
          "data": {
            "text/plain": [
              "<Figure size 1000x800 with 2 Axes>"
            ],
            "image/png": "[encoded data removed]"
          },
          "metadata": {}
        }
      ]
    },
    {
      "cell_type": "markdown",
      "source": [
        "This is the correlation matrix of the dataset which shows correlation coefficients between various variables such as nuts and milk etc.\n",
        "\n",
        "Correlation matrix could be used to:\n",
        "indicate positive or negative relationship between  variables eg there is a positive relationship between nuts and cereals,\n",
        "detect multicollinearity eg nuts and cereals are slightly high correlated etc"
      ],
      "metadata": {
        "id": "HN3mErJ4L-Bf"
      }
    },
    {
      "cell_type": "code",
      "source": [
        "from statsmodels.stats.outliers_influence import variance_inflation_factor\n",
        "import statsmodels.api as sm\n",
        "\n",
        "# Assuming 'pa' is the DataFrame holding your dataset\n",
        "numeric_data = df.drop(columns=['Country'])\n",
        "\n",
        "# Add a constant term for the intercept\n",
        "X = sm.add_constant(numeric_data)\n",
        "\n",
        "# Compute VIF for each feature\n",
        "vif_data = pd.DataFrame()\n",
        "vif_data['Feature'] = X.columns\n",
        "vif_data['VIF'] = [variance_inflation_factor(X.values, i) for i in range(X.shape[1])]\n",
        "\n",
        "# Display the VIF\n",
        "print(vif_data)"
      ],
      "metadata": {
        "colab": {
          "base_uri": "https://localhost:8080/"
        },
        "id": "GHi2O2FNs3Ue",
        "outputId": "a36b5d50-3676-4838-e998-e19eb9aa7eff"
      },
      "execution_count": 16,
      "outputs": [
        {
          "output_type": "stream",
          "name": "stdout",
          "text": [
            "     Feature         VIF\n",
            "0      const  239.153503\n",
            "1    RedMeat    2.112466\n",
            "2  WhiteMeat    4.193091\n",
            "3       Eggs    4.512637\n",
            "4       Milk    2.614434\n",
            "5       Fish    3.400301\n",
            "6    Cereals    5.319095\n",
            "7     Starch    1.852658\n",
            "8       Nuts    4.448313\n",
            "9     Fr&Veg    1.944365\n"
          ]
        }
      ]
    },
    {
      "cell_type": "markdown",
      "source": [
        "This shows the VIF of the dataset.\n",
        "\n",
        "Variance Inflation Factor (VIF) is a measure used to detect multicollinearity in a set of multiple regression variables. Multicollinearity occurs when predictor variables in a regression model are highly correlated, which can cause problems in estimating the coefficients and interpreting the model."
      ],
      "metadata": {
        "id": "5RnPTI9xPHVf"
      }
    },
    {
      "cell_type": "code",
      "source": [
        "data_melted = df.melt(id_vars='Country', var_name='Food', value_name='Consumption')\n",
        "plt.figure(figsize=(10, 8))\n",
        "sns.boxplot(x='Food', y='Consumption', data=data_melted)\n",
        "plt.xticks(rotation=90)\n",
        "plt.show()"
      ],
      "metadata": {
        "colab": {
          "base_uri": "https://localhost:8080/",
          "height": 757
        },
        "id": "Y2HaM-aMt53w",
        "outputId": "b2032418-89ef-4dd0-a60c-a42322a08852"
      },
      "execution_count": 17,
      "outputs": [
        {
          "output_type": "display_data",
          "data": {
            "text/plain": [
              "<Figure size 1000x800 with 1 Axes>"
            ],
            "image/png": "[encoded data removed]"
          },
          "metadata": {}
        }
      ]
    },
    {
      "cell_type": "markdown",
      "source": [
        "# **REGRESSION MODELLING**"
      ],
      "metadata": {
        "id": "QTuQzcHfJxsl"
      }
    },
    {
      "cell_type": "code",
      "source": [
        "#Finding the total protein intake per Country\n",
        "df['Total_df'] = df[['RedMeat', 'WhiteMeat', 'Eggs', 'Milk', 'Fish', 'Cereals', 'Starch', 'Nuts', 'Fr&Veg']].sum(axis=1)\n",
        "\n",
        "# Display the updated DataFrame\n",
        "print(df.head())"
      ],
      "metadata": {
        "colab": {
          "base_uri": "https://localhost:8080/"
        },
        "id": "OtrecXwMO6k8",
        "outputId": "ddc0f099-be3e-40a2-9031-2fc1cef68b5b"
      },
      "execution_count": 24,
      "outputs": [
        {
          "output_type": "stream",
          "name": "stdout",
          "text": [
            "          Country  RedMeat  WhiteMeat  Eggs  Milk  Fish  Cereals  Starch  \\\n",
            "0         Albania     10.1        1.4   0.5   8.9   0.2     42.3     0.6   \n",
            "1         Austria      8.9       14.0   4.3  19.9   2.1     28.0     3.6   \n",
            "2         Belgium     13.5        9.3   4.1  17.5   4.5     26.6     5.7   \n",
            "3        Bulgaria      7.8        6.0   1.6   8.3   1.2     56.7     1.1   \n",
            "4  Czechoslovakia      9.7       11.4   2.8  12.5   2.0     34.3     5.0   \n",
            "\n",
            "   Nuts  Fr&Veg  Total_df  \n",
            "0   5.5     1.7      71.2  \n",
            "1   1.3     4.3      86.4  \n",
            "2   2.1     4.0      87.3  \n",
            "3   3.7     4.2      90.6  \n",
            "4   1.1     4.0      82.8  \n"
          ]
        }
      ]
    },
    {
      "cell_type": "markdown",
      "source": [
        "This is to enble us to model the data well"
      ],
      "metadata": {
        "id": "JsGd9WcGO79U"
      }
    },
    {
      "cell_type": "code",
      "source": [
        "numeric_columns =df.columns[1:]\n",
        "df[numeric_columns] =df[numeric_columns].astype(float)\n",
        "df[numeric_columns]"
      ],
      "metadata": {
        "colab": {
          "base_uri": "https://localhost:8080/",
          "height": 833
        },
        "id": "WKe3WLVoRLfX",
        "outputId": "5befd057-10bc-47ac-b8bf-23b411c5855b"
      },
      "execution_count": 25,
      "outputs": [
        {
          "output_type": "execute_result",
          "data": {
            "text/plain": [
              "    RedMeat  WhiteMeat  Eggs  Milk  Fish  Cereals  Starch  Nuts  Fr&Veg  \\\n",
              "0      10.1        1.4   0.5   8.9   0.2     42.3     0.6   5.5     1.7   \n",
              "1       8.9       14.0   4.3  19.9   2.1     28.0     3.6   1.3     4.3   \n",
              "2      13.5        9.3   4.1  17.5   4.5     26.6     5.7   2.1     4.0   \n",
              "3       7.8        6.0   1.6   8.3   1.2     56.7     1.1   3.7     4.2   \n",
              "4       9.7       11.4   2.8  12.5   2.0     34.3     5.0   1.1     4.0   \n",
              "5      10.6       10.8   3.7  25.0   9.9     21.9     4.8   0.7     2.4   \n",
              "6       8.4       11.6   3.7  11.1   5.4     24.6     6.5   0.8     3.6   \n",
              "7       9.5        4.9   2.7  33.7   5.8     26.3     5.1   1.0     1.4   \n",
              "8      18.0        9.9   3.3  19.5   5.7     28.1     4.8   2.4     6.5   \n",
              "9      10.2        3.0   2.8  17.6   5.9     41.7     2.2   7.8     6.5   \n",
              "10      5.3       12.4   2.9   9.7   0.3     40.1     4.0   5.4     4.2   \n",
              "11     13.9       10.0   4.7  25.8   2.2     24.0     6.2   1.6     2.9   \n",
              "12      9.0        5.1   2.9  13.7   3.4     36.8     2.1   4.3     6.7   \n",
              "13      9.5       13.6   3.6  23.4   2.5     22.4     4.2   1.8     3.7   \n",
              "14      9.4        4.7   2.7  23.3   9.7     23.0     4.6   1.6     2.7   \n",
              "15      6.9       10.2   2.7  19.3   3.0     36.1     5.9   2.0     6.6   \n",
              "16      6.2        3.7   1.1   4.9  14.2     27.0     5.9   4.7     7.9   \n",
              "17      6.2        6.3   1.5  11.1   1.0     49.6     3.1   5.3     2.8   \n",
              "18      7.1        3.4   3.1   8.6   7.0     29.2     5.7   5.9     7.2   \n",
              "19      9.9        7.8   3.5  24.7   7.5     19.5     3.7   1.4     2.0   \n",
              "20     13.1       10.1   3.1  23.8   2.3     25.6     2.8   2.4     4.9   \n",
              "21     17.4        5.7   4.7  20.6   4.3     24.3     4.7   3.4     3.3   \n",
              "22      9.3        4.6   2.1  16.6   3.0     43.6     6.4   3.4     2.9   \n",
              "23     11.4       12.5   4.1  18.8   3.4     18.6     5.2   1.5     3.8   \n",
              "24      4.4        5.0   1.2   9.5   0.6     55.9     3.0   5.7     3.2   \n",
              "\n",
              "    Total_df  \n",
              "0       71.2  \n",
              "1       86.4  \n",
              "2       87.3  \n",
              "3       90.6  \n",
              "4       82.8  \n",
              "5       89.8  \n",
              "6       75.7  \n",
              "7       90.4  \n",
              "8       98.2  \n",
              "9       97.7  \n",
              "10      84.3  \n",
              "11      91.3  \n",
              "12      84.0  \n",
              "13      84.7  \n",
              "14      81.7  \n",
              "15      92.7  \n",
              "16      75.6  \n",
              "17      86.9  \n",
              "18      77.2  \n",
              "19      80.0  \n",
              "20      88.1  \n",
              "21      88.4  \n",
              "22      91.9  \n",
              "23      79.3  \n",
              "24      88.5  "
            ],
            "text/html": [
              "\n",
              "  <div id=\"df-f89951eb-f47e-4887-bf81-ab8362500573\" class=\"colab-df-container\">\n",
              "    <div>\n",
              "<style scoped>\n",
              "    .dataframe tbody tr th:only-of-type {\n",
              "        vertical-align: middle;\n",
              "    }\n",
              "\n",
              "    .dataframe tbody tr th {\n",
              "        vertical-align: top;\n",
              "    }\n",
              "\n",
              "    .dataframe thead th {\n",
              "        text-align: right;\n",
              "    }\n",
              "</style>\n",
              "<table border=\"1\" class=\"dataframe\">\n",
              "  <thead>\n",
              "    <tr style=\"text-align: right;\">\n",
              "      <th></th>\n",
              "      <th>RedMeat</th>\n",
              "      <th>WhiteMeat</th>\n",
              "      <th>Eggs</th>\n",
              "      <th>Milk</th>\n",
              "      <th>Fish</th>\n",
              "      <th>Cereals</th>\n",
              "      <th>Starch</th>\n",
              "      <th>Nuts</th>\n",
              "      <th>Fr&amp;Veg</th>\n",
              "      <th>Total_df</th>\n",
              "    </tr>\n",
              "  </thead>\n",
              "  <tbody>\n",
              "    <tr>\n",
              "      <th>0</th>\n",
              "      <td>10.1</td>\n",
              "      <td>1.4</td>\n",
              "      <td>0.5</td>\n",
              "      <td>8.9</td>\n",
              "      <td>0.2</td>\n",
              "      <td>42.3</td>\n",
              "      <td>0.6</td>\n",
              "      <td>5.5</td>\n",
              "      <td>1.7</td>\n",
              "      <td>71.2</td>\n",
              "    </tr>\n",
              "    <tr>\n",
              "      <th>1</th>\n",
              "      <td>8.9</td>\n",
              "      <td>14.0</td>\n",
              "      <td>4.3</td>\n",
              "      <td>19.9</td>\n",
              "      <td>2.1</td>\n",
              "      <td>28.0</td>\n",
              "      <td>3.6</td>\n",
              "      <td>1.3</td>\n",
              "      <td>4.3</td>\n",
              "      <td>86.4</td>\n",
              "    </tr>\n",
              "    <tr>\n",
              "      <th>2</th>\n",
              "      <td>13.5</td>\n",
              "      <td>9.3</td>\n",
              "      <td>4.1</td>\n",
              "      <td>17.5</td>\n",
              "      <td>4.5</td>\n",
              "      <td>26.6</td>\n",
              "      <td>5.7</td>\n",
              "      <td>2.1</td>\n",
              "      <td>4.0</td>\n",
              "      <td>87.3</td>\n",
              "    </tr>\n",
              "    <tr>\n",
              "      <th>3</th>\n",
              "      <td>7.8</td>\n",
              "      <td>6.0</td>\n",
              "      <td>1.6</td>\n",
              "      <td>8.3</td>\n",
              "      <td>1.2</td>\n",
              "      <td>56.7</td>\n",
              "      <td>1.1</td>\n",
              "      <td>3.7</td>\n",
              "      <td>4.2</td>\n",
              "      <td>90.6</td>\n",
              "    </tr>\n",
              "    <tr>\n",
              "      <th>4</th>\n",
              "      <td>9.7</td>\n",
              "      <td>11.4</td>\n",
              "      <td>2.8</td>\n",
              "      <td>12.5</td>\n",
              "      <td>2.0</td>\n",
              "      <td>34.3</td>\n",
              "      <td>5.0</td>\n",
              "      <td>1.1</td>\n",
              "      <td>4.0</td>\n",
              "      <td>82.8</td>\n",
              "    </tr>\n",
              "    <tr>\n",
              "      <th>5</th>\n",
              "      <td>10.6</td>\n",
              "      <td>10.8</td>\n",
              "      <td>3.7</td>\n",
              "      <td>25.0</td>\n",
              "      <td>9.9</td>\n",
              "      <td>21.9</td>\n",
              "      <td>4.8</td>\n",
              "      <td>0.7</td>\n",
              "      <td>2.4</td>\n",
              "      <td>89.8</td>\n",
              "    </tr>\n",
              "    <tr>\n",
              "      <th>6</th>\n",
              "      <td>8.4</td>\n",
              "      <td>11.6</td>\n",
              "      <td>3.7</td>\n",
              "      <td>11.1</td>\n",
              "      <td>5.4</td>\n",
              "      <td>24.6</td>\n",
              "      <td>6.5</td>\n",
              "      <td>0.8</td>\n",
              "      <td>3.6</td>\n",
              "      <td>75.7</td>\n",
              "    </tr>\n",
              "    <tr>\n",
              "      <th>7</th>\n",
              "      <td>9.5</td>\n",
              "      <td>4.9</td>\n",
              "      <td>2.7</td>\n",
              "      <td>33.7</td>\n",
              "      <td>5.8</td>\n",
              "      <td>26.3</td>\n",
              "      <td>5.1</td>\n",
              "      <td>1.0</td>\n",
              "      <td>1.4</td>\n",
              "      <td>90.4</td>\n",
              "    </tr>\n",
              "    <tr>\n",
              "      <th>8</th>\n",
              "      <td>18.0</td>\n",
              "      <td>9.9</td>\n",
              "      <td>3.3</td>\n",
              "      <td>19.5</td>\n",
              "      <td>5.7</td>\n",
              "      <td>28.1</td>\n",
              "      <td>4.8</td>\n",
              "      <td>2.4</td>\n",
              "      <td>6.5</td>\n",
              "      <td>98.2</td>\n",
              "    </tr>\n",
              "    <tr>\n",
              "      <th>9</th>\n",
              "      <td>10.2</td>\n",
              "      <td>3.0</td>\n",
              "      <td>2.8</td>\n",
              "      <td>17.6</td>\n",
              "      <td>5.9</td>\n",
              "      <td>41.7</td>\n",
              "      <td>2.2</td>\n",
              "      <td>7.8</td>\n",
              "      <td>6.5</td>\n",
              "      <td>97.7</td>\n",
              "    </tr>\n",
              "    <tr>\n",
              "      <th>10</th>\n",
              "      <td>5.3</td>\n",
              "      <td>12.4</td>\n",
              "      <td>2.9</td>\n",
              "      <td>9.7</td>\n",
              "      <td>0.3</td>\n",
              "      <td>40.1</td>\n",
              "      <td>4.0</td>\n",
              "      <td>5.4</td>\n",
              "      <td>4.2</td>\n",
              "      <td>84.3</td>\n",
              "    </tr>\n",
              "    <tr>\n",
              "      <th>11</th>\n",
              "      <td>13.9</td>\n",
              "      <td>10.0</td>\n",
              "      <td>4.7</td>\n",
              "      <td>25.8</td>\n",
              "      <td>2.2</td>\n",
              "      <td>24.0</td>\n",
              "      <td>6.2</td>\n",
              "      <td>1.6</td>\n",
              "      <td>2.9</td>\n",
              "      <td>91.3</td>\n",
              "    </tr>\n",
              "    <tr>\n",
              "      <th>12</th>\n",
              "      <td>9.0</td>\n",
              "      <td>5.1</td>\n",
              "      <td>2.9</td>\n",
              "      <td>13.7</td>\n",
              "      <td>3.4</td>\n",
              "      <td>36.8</td>\n",
              "      <td>2.1</td>\n",
              "      <td>4.3</td>\n",
              "      <td>6.7</td>\n",
              "      <td>84.0</td>\n",
              "    </tr>\n",
              "    <tr>\n",
              "      <th>13</th>\n",
              "      <td>9.5</td>\n",
              "      <td>13.6</td>\n",
              "      <td>3.6</td>\n",
              "      <td>23.4</td>\n",
              "      <td>2.5</td>\n",
              "      <td>22.4</td>\n",
              "      <td>4.2</td>\n",
              "      <td>1.8</td>\n",
              "      <td>3.7</td>\n",
              "      <td>84.7</td>\n",
              "    </tr>\n",
              "    <tr>\n",
              "      <th>14</th>\n",
              "      <td>9.4</td>\n",
              "      <td>4.7</td>\n",
              "      <td>2.7</td>\n",
              "      <td>23.3</td>\n",
              "      <td>9.7</td>\n",
              "      <td>23.0</td>\n",
              "      <td>4.6</td>\n",
              "      <td>1.6</td>\n",
              "      <td>2.7</td>\n",
              "      <td>81.7</td>\n",
              "    </tr>\n",
              "    <tr>\n",
              "      <th>15</th>\n",
              "      <td>6.9</td>\n",
              "      <td>10.2</td>\n",
              "      <td>2.7</td>\n",
              "      <td>19.3</td>\n",
              "      <td>3.0</td>\n",
              "      <td>36.1</td>\n",
              "      <td>5.9</td>\n",
              "      <td>2.0</td>\n",
              "      <td>6.6</td>\n",
              "      <td>92.7</td>\n",
              "    </tr>\n",
              "    <tr>\n",
              "      <th>16</th>\n",
              "      <td>6.2</td>\n",
              "      <td>3.7</td>\n",
              "      <td>1.1</td>\n",
              "      <td>4.9</td>\n",
              "      <td>14.2</td>\n",
              "      <td>27.0</td>\n",
              "      <td>5.9</td>\n",
              "      <td>4.7</td>\n",
              "      <td>7.9</td>\n",
              "      <td>75.6</td>\n",
              "    </tr>\n",
              "    <tr>\n",
              "      <th>17</th>\n",
              "      <td>6.2</td>\n",
              "      <td>6.3</td>\n",
              "      <td>1.5</td>\n",
              "      <td>11.1</td>\n",
              "      <td>1.0</td>\n",
              "      <td>49.6</td>\n",
              "      <td>3.1</td>\n",
              "      <td>5.3</td>\n",
              "      <td>2.8</td>\n",
              "      <td>86.9</td>\n",
              "    </tr>\n",
              "    <tr>\n",
              "      <th>18</th>\n",
              "      <td>7.1</td>\n",
              "      <td>3.4</td>\n",
              "      <td>3.1</td>\n",
              "      <td>8.6</td>\n",
              "      <td>7.0</td>\n",
              "      <td>29.2</td>\n",
              "      <td>5.7</td>\n",
              "      <td>5.9</td>\n",
              "      <td>7.2</td>\n",
              "      <td>77.2</td>\n",
              "    </tr>\n",
              "    <tr>\n",
              "      <th>19</th>\n",
              "      <td>9.9</td>\n",
              "      <td>7.8</td>\n",
              "      <td>3.5</td>\n",
              "      <td>24.7</td>\n",
              "      <td>7.5</td>\n",
              "      <td>19.5</td>\n",
              "      <td>3.7</td>\n",
              "      <td>1.4</td>\n",
              "      <td>2.0</td>\n",
              "      <td>80.0</td>\n",
              "    </tr>\n",
              "    <tr>\n",
              "      <th>20</th>\n",
              "      <td>13.1</td>\n",
              "      <td>10.1</td>\n",
              "      <td>3.1</td>\n",
              "      <td>23.8</td>\n",
              "      <td>2.3</td>\n",
              "      <td>25.6</td>\n",
              "      <td>2.8</td>\n",
              "      <td>2.4</td>\n",
              "      <td>4.9</td>\n",
              "      <td>88.1</td>\n",
              "    </tr>\n",
              "    <tr>\n",
              "      <th>21</th>\n",
              "      <td>17.4</td>\n",
              "      <td>5.7</td>\n",
              "      <td>4.7</td>\n",
              "      <td>20.6</td>\n",
              "      <td>4.3</td>\n",
              "      <td>24.3</td>\n",
              "      <td>4.7</td>\n",
              "      <td>3.4</td>\n",
              "      <td>3.3</td>\n",
              "      <td>88.4</td>\n",
              "    </tr>\n",
              "    <tr>\n",
              "      <th>22</th>\n",
              "      <td>9.3</td>\n",
              "      <td>4.6</td>\n",
              "      <td>2.1</td>\n",
              "      <td>16.6</td>\n",
              "      <td>3.0</td>\n",
              "      <td>43.6</td>\n",
              "      <td>6.4</td>\n",
              "      <td>3.4</td>\n",
              "      <td>2.9</td>\n",
              "      <td>91.9</td>\n",
              "    </tr>\n",
              "    <tr>\n",
              "      <th>23</th>\n",
              "      <td>11.4</td>\n",
              "      <td>12.5</td>\n",
              "      <td>4.1</td>\n",
              "      <td>18.8</td>\n",
              "      <td>3.4</td>\n",
              "      <td>18.6</td>\n",
              "      <td>5.2</td>\n",
              "      <td>1.5</td>\n",
              "      <td>3.8</td>\n",
              "      <td>79.3</td>\n",
              "    </tr>\n",
              "    <tr>\n",
              "      <th>24</th>\n",
              "      <td>4.4</td>\n",
              "      <td>5.0</td>\n",
              "      <td>1.2</td>\n",
              "      <td>9.5</td>\n",
              "      <td>0.6</td>\n",
              "      <td>55.9</td>\n",
              "      <td>3.0</td>\n",
              "      <td>5.7</td>\n",
              "      <td>3.2</td>\n",
              "      <td>88.5</td>\n",
              "    </tr>\n",
              "  </tbody>\n",
              "</table>\n",
              "</div>\n",
              "    <div class=\"colab-df-buttons\">\n",
              "\n",
              "  <div class=\"colab-df-container\">\n",
              "    <button class=\"colab-df-convert\" onclick=\"convertToInteractive('df-f89951eb-f47e-4887-bf81-ab8362500573')\"\n",
              "            title=\"Convert this dataframe to an interactive table.\"\n",
              "            style=\"display:none;\">\n",
              "\n",
              "  <svg xmlns=\"http://www.w3.org/2000/svg\" height=\"24px\" viewBox=\"0 -960 960 960\">\n",
              "    <path d=\"M120-120v-720h720v720H120Zm60-500h600v-160H180v160Zm220 220h160v-160H400v160Zm0 220h160v-160H400v160ZM180-400h160v-160H180v160Zm440 0h160v-160H620v160ZM180-180h160v-160H180v160Zm440 0h160v-160H620v160Z\"/>\n",
              "  </svg>\n",
              "    </button>\n",
              "\n",
              "  <style>\n",
              "    .colab-df-container {\n",
              "      display:flex;\n",
              "      gap: 12px;\n",
              "    }\n",
              "\n",
              "    .colab-df-convert {\n",
              "      background-color: #E8F0FE;\n",
              "      border: none;\n",
              "      border-radius: 50%;\n",
              "      cursor: pointer;\n",
              "      display: none;\n",
              "      fill: #1967D2;\n",
              "      height: 32px;\n",
              "      padding: 0 0 0 0;\n",
              "      width: 32px;\n",
              "    }\n",
              "\n",
              "    .colab-df-convert:hover {\n",
              "      background-color: #E2EBFA;\n",
              "      box-shadow: 0px 1px 2px rgba(60, 64, 67, 0.3), 0px 1px 3px 1px rgba(60, 64, 67, 0.15);\n",
              "      fill: #174EA6;\n",
              "    }\n",
              "\n",
              "    .colab-df-buttons div {\n",
              "      margin-bottom: 4px;\n",
              "    }\n",
              "\n",
              "    [theme=dark] .colab-df-convert {\n",
              "      background-color: #3B4455;\n",
              "      fill: #D2E3FC;\n",
              "    }\n",
              "\n",
              "    [theme=dark] .colab-df-convert:hover {\n",
              "      background-color: #434B5C;\n",
              "      box-shadow: 0px 1px 3px 1px rgba(0, 0, 0, 0.15);\n",
              "      filter: drop-shadow(0px 1px 2px rgba(0, 0, 0, 0.3));\n",
              "      fill: #FFFFFF;\n",
              "    }\n",
              "  </style>\n",
              "\n",
              "    <script>\n",
              "      const buttonEl =\n",
              "        document.querySelector('#df-f89951eb-f47e-4887-bf81-ab8362500573 button.colab-df-convert');\n",
              "      buttonEl.style.display =\n",
              "        google.colab.kernel.accessAllowed ? 'block' : 'none';\n",
              "\n",
              "      async function convertToInteractive(key) {\n",
              "        const element = document.querySelector('#df-f89951eb-f47e-4887-bf81-ab8362500573');\n",
              "        const dataTable =\n",
              "          await google.colab.kernel.invokeFunction('convertToInteractive',\n",
              "                                                    [key], {});\n",
              "        if (!dataTable) return;\n",
              "\n",
              "        const docLinkHtml = 'Like what you see? Visit the ' +\n",
              "          '<a target=\"_blank\" href=https://colab.research.google.com/notebooks/data_table.ipynb>data table notebook</a>'\n",
              "          + ' to learn more about interactive tables.';\n",
              "        element.innerHTML = '';\n",
              "        dataTable['output_type'] = 'display_data';\n",
              "        await google.colab.output.renderOutput(dataTable, element);\n",
              "        const docLink = document.createElement('div');\n",
              "        docLink.innerHTML = docLinkHtml;\n",
              "        element.appendChild(docLink);\n",
              "      }\n",
              "    </script>\n",
              "  </div>\n",
              "\n",
              "\n",
              "<div id=\"df-aef86ec0-9f2c-434c-962e-9c8851cb920f\">\n",
              "  <button class=\"colab-df-quickchart\" onclick=\"quickchart('df-aef86ec0-9f2c-434c-962e-9c8851cb920f')\"\n",
              "            title=\"Suggest charts\"\n",
              "            style=\"display:none;\">\n",
              "\n",
              "<svg xmlns=\"http://www.w3.org/2000/svg\" height=\"24px\"viewBox=\"0 0 24 24\"\n",
              "     width=\"24px\">\n",
              "    <g>\n",
              "        <path d=\"M19 3H5c-1.1 0-2 .9-2 2v14c0 1.1.9 2 2 2h14c1.1 0 2-.9 2-2V5c0-1.1-.9-2-2-2zM9 17H7v-7h2v7zm4 0h-2V7h2v10zm4 0h-2v-4h2v4z\"/>\n",
              "    </g>\n",
              "</svg>\n",
              "  </button>\n",
              "\n",
              "<style>\n",
              "  .colab-df-quickchart {\n",
              "      --bg-color: #E8F0FE;\n",
              "      --fill-color: #1967D2;\n",
              "      --hover-bg-color: #E2EBFA;\n",
              "      --hover-fill-color: #174EA6;\n",
              "      --disabled-fill-color: #AAA;\n",
              "      --disabled-bg-color: #DDD;\n",
              "  }\n",
              "\n",
              "  [theme=dark] .colab-df-quickchart {\n",
              "      --bg-color: #3B4455;\n",
              "      --fill-color: #D2E3FC;\n",
              "      --hover-bg-color: #434B5C;\n",
              "      --hover-fill-color: #FFFFFF;\n",
              "      --disabled-bg-color: #3B4455;\n",
              "      --disabled-fill-color: #666;\n",
              "  }\n",
              "\n",
              "  .colab-df-quickchart {\n",
              "    background-color: var(--bg-color);\n",
              "    border: none;\n",
              "    border-radius: 50%;\n",
              "    cursor: pointer;\n",
              "    display: none;\n",
              "    fill: var(--fill-color);\n",
              "    height: 32px;\n",
              "    padding: 0;\n",
              "    width: 32px;\n",
              "  }\n",
              "\n",
              "  .colab-df-quickchart:hover {\n",
              "    background-color: var(--hover-bg-color);\n",
              "    box-shadow: 0 1px 2px rgba(60, 64, 67, 0.3), 0 1px 3px 1px rgba(60, 64, 67, 0.15);\n",
              "    fill: var(--button-hover-fill-color);\n",
              "  }\n",
              "\n",
              "  .colab-df-quickchart-complete:disabled,\n",
              "  .colab-df-quickchart-complete:disabled:hover {\n",
              "    background-color: var(--disabled-bg-color);\n",
              "    fill: var(--disabled-fill-color);\n",
              "    box-shadow: none;\n",
              "  }\n",
              "\n",
              "  .colab-df-spinner {\n",
              "    border: 2px solid var(--fill-color);\n",
              "    border-color: transparent;\n",
              "    border-bottom-color: var(--fill-color);\n",
              "    animation:\n",
              "      spin 1s steps(1) infinite;\n",
              "  }\n",
              "\n",
              "  @keyframes spin {\n",
              "    0% {\n",
              "      border-color: transparent;\n",
              "      border-bottom-color: var(--fill-color);\n",
              "      border-left-color: var(--fill-color);\n",
              "    }\n",
              "    20% {\n",
              "      border-color: transparent;\n",
              "      border-left-color: var(--fill-color);\n",
              "      border-top-color: var(--fill-color);\n",
              "    }\n",
              "    30% {\n",
              "      border-color: transparent;\n",
              "      border-left-color: var(--fill-color);\n",
              "      border-top-color: var(--fill-color);\n",
              "      border-right-color: var(--fill-color);\n",
              "    }\n",
              "    40% {\n",
              "      border-color: transparent;\n",
              "      border-right-color: var(--fill-color);\n",
              "      border-top-color: var(--fill-color);\n",
              "    }\n",
              "    60% {\n",
              "      border-color: transparent;\n",
              "      border-right-color: var(--fill-color);\n",
              "    }\n",
              "    80% {\n",
              "      border-color: transparent;\n",
              "      border-right-color: var(--fill-color);\n",
              "      border-bottom-color: var(--fill-color);\n",
              "    }\n",
              "    90% {\n",
              "      border-color: transparent;\n",
              "      border-bottom-color: var(--fill-color);\n",
              "    }\n",
              "  }\n",
              "</style>\n",
              "\n",
              "  <script>\n",
              "    async function quickchart(key) {\n",
              "      const quickchartButtonEl =\n",
              "        document.querySelector('#' + key + ' button');\n",
              "      quickchartButtonEl.disabled = true;  // To prevent multiple clicks.\n",
              "      quickchartButtonEl.classList.add('colab-df-spinner');\n",
              "      try {\n",
              "        const charts = await google.colab.kernel.invokeFunction(\n",
              "            'suggestCharts', [key], {});\n",
              "      } catch (error) {\n",
              "        console.error('Error during call to suggestCharts:', error);\n",
              "      }\n",
              "      quickchartButtonEl.classList.remove('colab-df-spinner');\n",
              "      quickchartButtonEl.classList.add('colab-df-quickchart-complete');\n",
              "    }\n",
              "    (() => {\n",
              "      let quickchartButtonEl =\n",
              "        document.querySelector('#df-aef86ec0-9f2c-434c-962e-9c8851cb920f button');\n",
              "      quickchartButtonEl.style.display =\n",
              "        google.colab.kernel.accessAllowed ? 'block' : 'none';\n",
              "    })();\n",
              "  </script>\n",
              "</div>\n",
              "\n",
              "    </div>\n",
              "  </div>\n"
            ],
            "application/vnd.google.colaboratory.intrinsic+json": {
              "type": "dataframe",
              "summary": "{\n  \"name\": \"df[numeric_columns]\",\n  \"rows\": 25,\n  \"fields\": [\n    {\n      \"column\": \"RedMeat\",\n      \"properties\": {\n        \"dtype\": \"number\",\n        \"std\": 3.3470783279351757,\n        \"min\": 4.4,\n        \"max\": 18.0,\n        \"num_unique_values\": 23,\n        \"samples\": [\n          6.2,\n          10.2,\n          10.1\n        ],\n        \"semantic_type\": \"\",\n        \"description\": \"\"\n      }\n    },\n    {\n      \"column\": \"WhiteMeat\",\n      \"properties\": {\n        \"dtype\": \"number\",\n        \"std\": 3.694080850947003,\n        \"min\": 1.4,\n        \"max\": 14.0,\n        \"num_unique_values\": 25,\n        \"samples\": [\n          9.9,\n          3.7,\n          1.4\n        ],\n        \"semantic_type\": \"\",\n        \"description\": \"\"\n      }\n    },\n    {\n      \"column\": \"Eggs\",\n      \"properties\": {\n        \"dtype\": \"number\",\n        \"std\": 1.1176165114504468,\n        \"min\": 0.5,\n        \"max\": 4.7,\n        \"num_unique_values\": 17,\n        \"samples\": [\n          0.5,\n          4.3,\n          3.7\n        ],\n        \"semantic_type\": \"\",\n        \"description\": \"\"\n      }\n    },\n    {\n      \"column\": \"Milk\",\n      \"properties\": {\n        \"dtype\": \"number\",\n        \"std\": 7.10541577483917,\n        \"min\": 4.9,\n        \"max\": 33.7,\n        \"num_unique_values\": 24,\n        \"samples\": [\n          19.5,\n          4.9,\n          8.9\n        ],\n        \"semantic_type\": \"\",\n        \"description\": \"\"\n      }\n    },\n    {\n      \"column\": \"Fish\",\n      \"properties\": {\n        \"dtype\": \"number\",\n        \"std\": 3.402533369907389,\n        \"min\": 0.2,\n        \"max\": 14.2,\n        \"num_unique_values\": 23,\n        \"samples\": [\n          3.0,\n          5.9,\n          0.2\n        ],\n        \"semantic_type\": \"\",\n        \"description\": \"\"\n      }\n    },\n    {\n      \"column\": \"Cereals\",\n      \"properties\": {\n        \"dtype\": \"number\",\n        \"std\": 10.974786254562469,\n        \"min\": 18.6,\n        \"max\": 56.7,\n        \"num_unique_values\": 25,\n        \"samples\": [\n          28.1,\n          27.0,\n          42.3\n        ],\n        \"semantic_type\": \"\",\n        \"description\": \"\"\n      }\n    },\n    {\n      \"column\": \"Starch\",\n      \"properties\": {\n        \"dtype\": \"number\",\n        \"std\": 1.6340848611174799,\n        \"min\": 0.6,\n        \"max\": 6.5,\n        \"num_unique_values\": 22,\n        \"samples\": [\n          0.6,\n          4.6,\n          2.2\n        ],\n        \"semantic_type\": \"\",\n        \"description\": \"\"\n      }\n    },\n    {\n      \"column\": \"Nuts\",\n      \"properties\": {\n        \"dtype\": \"number\",\n        \"std\": 1.9856820826439798,\n        \"min\": 0.7,\n        \"max\": 7.8,\n        \"num_unique_values\": 22,\n        \"samples\": [\n          5.5,\n          1.8,\n          2.4\n        ],\n        \"semantic_type\": \"\",\n        \"description\": \"\"\n      }\n    },\n    {\n      \"column\": \"Fr&Veg\",\n      \"properties\": {\n        \"dtype\": \"number\",\n        \"std\": 1.8039031755243036,\n        \"min\": 1.4,\n        \"max\": 7.9,\n        \"num_unique_values\": 21,\n        \"samples\": [\n          1.7,\n          4.9,\n          7.2\n        ],\n        \"semantic_type\": \"\",\n        \"description\": \"\"\n      }\n    },\n    {\n      \"column\": \"Total_df\",\n      \"properties\": {\n        \"dtype\": \"number\",\n        \"std\": 6.7557580379012006,\n        \"min\": 71.2,\n        \"max\": 98.2,\n        \"num_unique_values\": 25,\n        \"samples\": [\n          98.2,\n          75.60000000000001,\n          71.2\n        ],\n        \"semantic_type\": \"\",\n        \"description\": \"\"\n      }\n    }\n  ]\n}"
            }
          },
          "metadata": {},
          "execution_count": 25
        }
      ]
    },
    {
      "cell_type": "code",
      "source": [
        "import pandas as pd\n",
        "import matplotlib.pyplot as plt\n",
        "from sklearn.ensemble import RandomForestRegressor\n",
        "from sklearn.model_selection import train_test_split\n",
        "from sklearn.metrics import mean_squared_error\n",
        "from sklearn.impute import SimpleImputer\n",
        "\n",
        "# Select relevant features and target\n",
        "features = ['RedMeat', 'WhiteMeat', 'Eggs', 'Milk','Fish','Cereals','Starch','Nuts','Fr&Veg']\n",
        "target   = ['Total_df']\n",
        "\n",
        "# Define features and target variable\n",
        "X = df[features]\n",
        "y = df[target]\n",
        "\n",
        "# Split the data into train and test sets\n",
        "X_train, X_test, y_train, y_test = train_test_split(X, y, test_size=0.2, random_state=42)\n",
        "\n",
        "# Train the Linear Regression model\n",
        "protein = RandomForestRegressor(n_estimators=100, random_state=42)\n",
        "protein.fit(X_train, y_train)\n",
        "\n",
        "# Calculate feature importances\n",
        "feature_importances = protein.feature_importances_\n",
        "\n",
        "# Plot feature importances\n",
        "plt.figure(figsize=(10, 6))\n",
        "plt.barh(features, feature_importances, color='orange')\n",
        "plt.xlabel('Feature Importance')\n",
        "plt.ylabel('Feature')\n",
        "plt.title('Feature Importance for Protein')\n",
        "plt.show()"
      ],
      "metadata": {
        "id": "I9F1h5BZuTDR",
        "colab": {
          "base_uri": "https://localhost:8080/",
          "height": 599
        },
        "outputId": "533e33cc-899b-4a14-c5f0-d9429239493d"
      },
      "execution_count": 49,
      "outputs": [
        {
          "output_type": "stream",
          "name": "stderr",
          "text": [
            "<ipython-input-49-1c7e5478131a>:21: DataConversionWarning: A column-vector y was passed when a 1d array was expected. Please change the shape of y to (n_samples,), for example using ravel().\n",
            "  protein.fit(X_train, y_train)\n"
          ]
        },
        {
          "output_type": "display_data",
          "data": {
            "text/plain": [
              "<Figure size 1000x600 with 1 Axes>"
            ],
            "image/png": "[encoded data removed]"
          },
          "metadata": {}
        }
      ]
    },
    {
      "cell_type": "code",
      "source": [
        "y_prediction=protein.predict(X_test)\n",
        "y_prediction"
      ],
      "metadata": {
        "id": "7KbAHxQHxUpC",
        "colab": {
          "base_uri": "https://localhost:8080/"
        },
        "outputId": "c10b4adc-0301-42bc-9584-0ba9392f8d7f"
      },
      "execution_count": 27,
      "outputs": [
        {
          "output_type": "execute_result",
          "data": {
            "text/plain": [
              "array([86.889, 84.885, 89.997, 86.326, 87.715])"
            ]
          },
          "metadata": {},
          "execution_count": 27
        }
      ]
    },
    {
      "cell_type": "code",
      "source": [
        "y_train_pred = protein.predict(X_train)\n",
        "y_train_pred"
      ],
      "metadata": {
        "colab": {
          "base_uri": "https://localhost:8080/"
        },
        "id": "Ob8ic3sdVNTR",
        "outputId": "1cc23fbb-481a-41a7-fe9f-6f1f496678be"
      },
      "execution_count": 33,
      "outputs": [
        {
          "output_type": "execute_result",
          "data": {
            "text/plain": [
              "array([92.101, 84.89 , 85.961, 89.131, 87.547, 87.191, 86.144, 90.275,\n",
              "       89.328, 85.329, 87.425, 87.918, 87.313, 82.033, 88.063, 88.401,\n",
              "       85.05 , 83.589, 81.997, 78.725])"
            ]
          },
          "metadata": {},
          "execution_count": 33
        }
      ]
    },
    {
      "cell_type": "code",
      "source": [
        "print(X_train)"
      ],
      "metadata": {
        "id": "snWYOcNKyeuq",
        "colab": {
          "base_uri": "https://localhost:8080/"
        },
        "outputId": "f7291473-8695-4db1-db24-8d8ee4c4cc69"
      },
      "execution_count": 60,
      "outputs": [
        {
          "output_type": "stream",
          "name": "stdout",
          "text": [
            "    RedMeat  WhiteMeat  Eggs  Milk  Fish  Cereals  Starch  Nuts  Fr&Veg\n",
            "9      10.2        3.0   2.8  17.6   5.9     41.7     2.2   7.8     6.5\n",
            "13      9.5       13.6   3.6  23.4   2.5     22.4     4.2   1.8     3.7\n",
            "1       8.9       14.0   4.3  19.9   2.1     28.0     3.6   1.3     4.3\n",
            "22      9.3        4.6   2.1  16.6   3.0     43.6     6.4   3.4     2.9\n",
            "5      10.6       10.8   3.7  25.0   9.9     21.9     4.8   0.7     2.4\n",
            "2      13.5        9.3   4.1  17.5   4.5     26.6     5.7   2.1     4.0\n",
            "12      9.0        5.1   2.9  13.7   3.4     36.8     2.1   4.3     6.7\n",
            "15      6.9       10.2   2.7  19.3   3.0     36.1     5.9   2.0     6.6\n",
            "3       7.8        6.0   1.6   8.3   1.2     56.7     1.1   3.7     4.2\n",
            "4       9.7       11.4   2.8  12.5   2.0     34.3     5.0   1.1     4.0\n",
            "20     13.1       10.1   3.1  23.8   2.3     25.6     2.8   2.4     4.9\n",
            "17      6.2        6.3   1.5  11.1   1.0     49.6     3.1   5.3     2.8\n",
            "21     17.4        5.7   4.7  20.6   4.3     24.3     4.7   3.4     3.3\n",
            "18      7.1        3.4   3.1   8.6   7.0     29.2     5.7   5.9     7.2\n",
            "24      4.4        5.0   1.2   9.5   0.6     55.9     3.0   5.7     3.2\n",
            "7       9.5        4.9   2.7  33.7   5.8     26.3     5.1   1.0     1.4\n",
            "10      5.3       12.4   2.9   9.7   0.3     40.1     4.0   5.4     4.2\n",
            "14      9.4        4.7   2.7  23.3   9.7     23.0     4.6   1.6     2.7\n",
            "19      9.9        7.8   3.5  24.7   7.5     19.5     3.7   1.4     2.0\n",
            "6       8.4       11.6   3.7  11.1   5.4     24.6     6.5   0.8     3.6\n"
          ]
        }
      ]
    },
    {
      "cell_type": "code",
      "source": [
        "print(X_test)"
      ],
      "metadata": {
        "id": "QwHGeId8yqL_",
        "colab": {
          "base_uri": "https://localhost:8080/"
        },
        "outputId": "20223cdc-fdcf-4cc3-e469-fb773872069a"
      },
      "execution_count": 61,
      "outputs": [
        {
          "output_type": "stream",
          "name": "stdout",
          "text": [
            "    RedMeat  WhiteMeat  Eggs  Milk  Fish  Cereals  Starch  Nuts  Fr&Veg\n",
            "8      18.0        9.9   3.3  19.5   5.7     28.1     4.8   2.4     6.5\n",
            "16      6.2        3.7   1.1   4.9  14.2     27.0     5.9   4.7     7.9\n",
            "0      10.1        1.4   0.5   8.9   0.2     42.3     0.6   5.5     1.7\n",
            "23     11.4       12.5   4.1  18.8   3.4     18.6     5.2   1.5     3.8\n",
            "11     13.9       10.0   4.7  25.8   2.2     24.0     6.2   1.6     2.9\n"
          ]
        }
      ]
    },
    {
      "cell_type": "code",
      "source": [
        "from sklearn.linear_model import LinearRegression\n",
        "mymodel=LinearRegression()\n",
        "model=mymodel.fit(X_train,y_train)\n",
        "model"
      ],
      "metadata": {
        "colab": {
          "base_uri": "https://localhost:8080/",
          "height": 75
        },
        "id": "IsAbME9RZ4NX",
        "outputId": "6f3c3e90-cd65-40e9-ecba-00a88c3367e8"
      },
      "execution_count": 52,
      "outputs": [
        {
          "output_type": "execute_result",
          "data": {
            "text/plain": [
              "LinearRegression()"
            ],
            "text/html": [
              "<style>#sk-container-id-3 {color: black;background-color: white;}#sk-container-id-3 pre{padding: 0;}#sk-container-id-3 div.sk-toggleable {background-color: white;}#sk-container-id-3 label.sk-toggleable__label {cursor: pointer;display: block;width: 100%;margin-bottom: 0;padding: 0.3em;box-sizing: border-box;text-align: center;}#sk-container-id-3 label.sk-toggleable__label-arrow:before {content: \"▸\";float: left;margin-right: 0.25em;color: #696969;}#sk-container-id-3 label.sk-toggleable__label-arrow:hover:before {color: black;}#sk-container-id-3 div.sk-estimator:hover label.sk-toggleable__label-arrow:before {color: black;}#sk-container-id-3 div.sk-toggleable__content {max-height: 0;max-width: 0;overflow: hidden;text-align: left;background-color: #f0f8ff;}#sk-container-id-3 div.sk-toggleable__content pre {margin: 0.2em;color: black;border-radius: 0.25em;background-color: #f0f8ff;}#sk-container-id-3 input.sk-toggleable__control:checked~div.sk-toggleable__content {max-height: 200px;max-width: 100%;overflow: auto;}#sk-container-id-3 input.sk-toggleable__control:checked~label.sk-toggleable__label-arrow:before {content: \"▾\";}#sk-container-id-3 div.sk-estimator input.sk-toggleable__control:checked~label.sk-toggleable__label {background-color: #d4ebff;}#sk-container-id-3 div.sk-label input.sk-toggleable__control:checked~label.sk-toggleable__label {background-color: #d4ebff;}#sk-container-id-3 input.sk-hidden--visually {border: 0;clip: rect(1px 1px 1px 1px);clip: rect(1px, 1px, 1px, 1px);height: 1px;margin: -1px;overflow: hidden;padding: 0;position: absolute;width: 1px;}#sk-container-id-3 div.sk-estimator {font-family: monospace;background-color: #f0f8ff;border: 1px dotted black;border-radius: 0.25em;box-sizing: border-box;margin-bottom: 0.5em;}#sk-container-id-3 div.sk-estimator:hover {background-color: #d4ebff;}#sk-container-id-3 div.sk-parallel-item::after {content: \"\";width: 100%;border-bottom: 1px solid gray;flex-grow: 1;}#sk-container-id-3 div.sk-label:hover label.sk-toggleable__label {background-color: #d4ebff;}#sk-container-id-3 div.sk-serial::before {content: \"\";position: absolute;border-left: 1px solid gray;box-sizing: border-box;top: 0;bottom: 0;left: 50%;z-index: 0;}#sk-container-id-3 div.sk-serial {display: flex;flex-direction: column;align-items: center;background-color: white;padding-right: 0.2em;padding-left: 0.2em;position: relative;}#sk-container-id-3 div.sk-item {position: relative;z-index: 1;}#sk-container-id-3 div.sk-parallel {display: flex;align-items: stretch;justify-content: center;background-color: white;position: relative;}#sk-container-id-3 div.sk-item::before, #sk-container-id-3 div.sk-parallel-item::before {content: \"\";position: absolute;border-left: 1px solid gray;box-sizing: border-box;top: 0;bottom: 0;left: 50%;z-index: -1;}#sk-container-id-3 div.sk-parallel-item {display: flex;flex-direction: column;z-index: 1;position: relative;background-color: white;}#sk-container-id-3 div.sk-parallel-item:first-child::after {align-self: flex-end;width: 50%;}#sk-container-id-3 div.sk-parallel-item:last-child::after {align-self: flex-start;width: 50%;}#sk-container-id-3 div.sk-parallel-item:only-child::after {width: 0;}#sk-container-id-3 div.sk-dashed-wrapped {border: 1px dashed gray;margin: 0 0.4em 0.5em 0.4em;box-sizing: border-box;padding-bottom: 0.4em;background-color: white;}#sk-container-id-3 div.sk-label label {font-family: monospace;font-weight: bold;display: inline-block;line-height: 1.2em;}#sk-container-id-3 div.sk-label-container {text-align: center;}#sk-container-id-3 div.sk-container {/* jupyter's `normalize.less` sets `[hidden] { display: none; }` but bootstrap.min.css set `[hidden] { display: none !important; }` so we also need the `!important` here to be able to override the default hidden behavior on the sphinx rendered scikit-learn.org. See: https://github.com/scikit-learn/scikit-learn/issues/21755 */display: inline-block !important;position: relative;}#sk-container-id-3 div.sk-text-repr-fallback {display: none;}</style><div id=\"sk-container-id-3\" class=\"sk-top-container\"><div class=\"sk-text-repr-fallback\"><pre>LinearRegression()</pre><b>In a Jupyter environment, please rerun this cell to show the HTML representation or trust the notebook. <br />On GitHub, the HTML representation is unable to render, please try loading this page with nbviewer.org.</b></div><div class=\"sk-container\" hidden><div class=\"sk-item\"><div class=\"sk-estimator sk-toggleable\"><input class=\"sk-toggleable__control sk-hidden--visually\" id=\"sk-estimator-id-3\" type=\"checkbox\" checked><label for=\"sk-estimator-id-3\" class=\"sk-toggleable__label sk-toggleable__label-arrow\">LinearRegression</label><div class=\"sk-toggleable__content\"><pre>LinearRegression()</pre></div></div></div></div></div>"
            ]
          },
          "metadata": {},
          "execution_count": 52
        }
      ]
    },
    {
      "cell_type": "markdown",
      "source": [
        "Fitting a multiple linear regression Y=β0 ​+ β1​X1 ​+ β2​X2 ​+…+ βn​Xn ​+ ϵ\n",
        "\n",
        "Where:\n",
        "\n",
        "Y is the dependent variable (the variable we are trying to predict). X1 , X2,…,XnX1 ​, X2​,…, Xn​ are the independent variables (predictor variables). β0​ is the intercept (the value of Y when all independent variables are zero). β1 , β2,…, βnβ1 ​, β2​,…, βn​ are the coefficients (the parameters that represent the relationship between each independent variable and the dependent variable). ϵ is the error term (the difference between the observed value and the predicted value of Y)."
      ],
      "metadata": {
        "id": "vYNl2LEgfTzZ"
      }
    },
    {
      "cell_type": "code",
      "source": [
        "from sklearn.metrics import mean_absolute_error,mean_squared_error,r2_score\n",
        "\n",
        "mse = mean_squared_error(y_test, y_pred)\n",
        "r2 = r2_score(y_test, y_pred)\n",
        "mae = mean_absolute_error\n",
        "\n",
        "print(\"Mean Squared Error:\", mse)\n",
        "print(\"R-squared:\", r2)\n",
        "print(\"Mean Absolute Error\", mae)"
      ],
      "metadata": {
        "colab": {
          "base_uri": "https://localhost:8080/"
        },
        "id": "LvWTK9HJa53Z",
        "outputId": "9d3d336a-ccb2-4b2e-ed87-e50b51c11560"
      },
      "execution_count": 73,
      "outputs": [
        {
          "output_type": "stream",
          "name": "stdout",
          "text": [
            "Mean Squared Error: 125.93881119999928\n",
            "R-squared: -0.24065912189585337\n",
            "Mean Absolute Error <function mean_absolute_error at 0x7e888af8fac0>\n"
          ]
        }
      ]
    },
    {
      "cell_type": "code",
      "source": [
        "import pandas as pd\n",
        "from sklearn.model_selection import train_test_split, KFold, cross_val_score\n",
        "from sklearn.linear_model import LinearRegression\n",
        "from sklearn.metrics import mean_squared_error, r2_score\n",
        "\n",
        "\n",
        "\n",
        "# 1. Initialize the model:\n",
        "model = LinearRegression()\n",
        "\n",
        "# 2. Perform k-fold cross-validation:\n",
        "ff = KFold(n_splits=5, shuffle=True, random_state=42)\n",
        "cv_scores_mse = cross_val_score(model, X, y, cv=ff, scoring='neg_mean_squared_error')\n",
        "cv_scores_r2 = cross_val_score(model, X, y, cv=ff, scoring='r2')\n",
        "\n",
        "# 3. Calculate and print the average scores:\n",
        "avg_mse = -cv_scores_mse.mean()\n",
        "avg_r2 = cv_scores_r2.mean()\n",
        "\n",
        "print(\"Average Mean Squared Error (Cross-Validation):\", avg_mse)\n",
        "print(\"Average R-squared (Cross-Validation):\", avg_r2)"
      ],
      "metadata": {
        "colab": {
          "base_uri": "https://localhost:8080/"
        },
        "id": "7gob4O0AbAp2",
        "outputId": "3c3d11ad-9ca5-4a26-f8e9-53b621a7c290"
      },
      "execution_count": 54,
      "outputs": [
        {
          "output_type": "stream",
          "name": "stdout",
          "text": [
            "Average Mean Squared Error (Cross-Validation): 6.058451752097371e-28\n",
            "Average R-squared (Cross-Validation): 1.0\n"
          ]
        }
      ]
    },
    {
      "cell_type": "code",
      "source": [
        "# Plotting\n",
        "plt.figure(figsize=(14, 6))\n",
        "\n",
        "# Scatter plot for train set\n",
        "plt.subplot(1, 2, 1)\n",
        "plt.scatter(y_train, y_train_pred, color='blue', edgecolor='k', alpha=0.6)\n",
        "plt.plot([y.min(), y.max()], [y.min(), y.max()], 'k--', lw=2)\n",
        "plt.xlabel('Actual')\n",
        "plt.ylabel('Predicted')\n",
        "plt.title('Train Set: Actual vs Predicted')\n",
        "plt.grid(True)\n",
        "\n",
        "# Scatter plot for test set\n",
        "plt.subplot(1, 2, 2)\n",
        "plt.scatter(y_test, y_pred, color='red', edgecolor='k', alpha=0.6)\n",
        "plt.plot([y.min(), y.max()], [y.min(), y.max()], 'k--', lw=2)\n",
        "plt.xlabel('Actual')\n",
        "plt.ylabel('Predicted')\n",
        "plt.title('Test Set: Actual vs Predicted')\n",
        "plt.grid(True)\n",
        "\n",
        "# Show the plots\n",
        "plt.tight_layout()\n",
        "plt.show()"
      ],
      "metadata": {
        "colab": {
          "base_uri": "https://localhost:8080/",
          "height": 607
        },
        "id": "Obrk0AKclI1x",
        "outputId": "c36a340e-5d52-4d81-f968-513243f2c33e"
      },
      "execution_count": 83,
      "outputs": [
        {
          "output_type": "display_data",
          "data": {
            "text/plain": [
              "<Figure size 1400x600 with 2 Axes>"
            ],
            "image/png": "[encoded data removed]"
          },
          "metadata": {}
        }
      ]
    },
    {
      "cell_type": "code",
      "source": [
        "model.intercept_"
      ],
      "metadata": {
        "id": "kJ1VyoOx04VY",
        "colab": {
          "base_uri": "https://localhost:8080/"
        },
        "outputId": "b0490bf7-6565-451f-bbc5-89a2bdb30be6"
      },
      "execution_count": 75,
      "outputs": [
        {
          "output_type": "execute_result",
          "data": {
            "text/plain": [
              "array([5.68434189e-14])"
            ]
          },
          "metadata": {},
          "execution_count": 75
        }
      ]
    },
    {
      "cell_type": "code",
      "source": [
        "model.coef_"
      ],
      "metadata": {
        "id": "A4hiSXKY0-oW",
        "colab": {
          "base_uri": "https://localhost:8080/"
        },
        "outputId": "f09d2863-0809-4b8a-e38b-a08095dc992e"
      },
      "execution_count": 76,
      "outputs": [
        {
          "output_type": "execute_result",
          "data": {
            "text/plain": [
              "array([[1., 1., 1., 1., 1., 1., 1., 1., 1.]])"
            ]
          },
          "metadata": {},
          "execution_count": 76
        }
      ]
    },
    {
      "cell_type": "code",
      "source": [
        "y_prediction=model.predict(X_train)\n",
        "y_prediction"
      ],
      "metadata": {
        "id": "Tn9nuBdj1CZV",
        "colab": {
          "base_uri": "https://localhost:8080/"
        },
        "outputId": "80306d63-3dc8-4010-82c7-28f6e6043488"
      },
      "execution_count": 77,
      "outputs": [
        {
          "output_type": "execute_result",
          "data": {
            "text/plain": [
              "array([[97.7],\n",
              "       [84.7],\n",
              "       [86.4],\n",
              "       [91.9],\n",
              "       [89.8],\n",
              "       [87.3],\n",
              "       [84. ],\n",
              "       [92.7],\n",
              "       [90.6],\n",
              "       [82.8],\n",
              "       [88.1],\n",
              "       [86.9],\n",
              "       [88.4],\n",
              "       [77.2],\n",
              "       [88.5],\n",
              "       [90.4],\n",
              "       [84.3],\n",
              "       [81.7],\n",
              "       [80. ],\n",
              "       [75.7]])"
            ]
          },
          "metadata": {},
          "execution_count": 77
        }
      ]
    },
    {
      "cell_type": "code",
      "source": [
        "from sklearn.metrics import mean_absolute_error,mean_squared_error,r2_score\n",
        "r2_score(y_train,y_prediction)"
      ],
      "metadata": {
        "id": "1uC9DDhJ1KMy",
        "colab": {
          "base_uri": "https://localhost:8080/"
        },
        "outputId": "dc46c865-fc12-4f7d-d214-0ea36e0350d6"
      },
      "execution_count": 78,
      "outputs": [
        {
          "output_type": "execute_result",
          "data": {
            "text/plain": [
              "1.0"
            ]
          },
          "metadata": {},
          "execution_count": 78
        }
      ]
    },
    {
      "cell_type": "code",
      "source": [
        "mean_squared_error(y_train,y_prediction)"
      ],
      "metadata": {
        "id": "a-So2Z0L1LRD",
        "colab": {
          "base_uri": "https://localhost:8080/"
        },
        "outputId": "7edb6794-1bae-4f2d-fdaf-d18ec9a2a16b"
      },
      "execution_count": 79,
      "outputs": [
        {
          "output_type": "execute_result",
          "data": {
            "text/plain": [
              "1.211690350419474e-28"
            ]
          },
          "metadata": {},
          "execution_count": 79
        }
      ]
    },
    {
      "cell_type": "code",
      "source": [
        "mean_absolute_error(y_train,y_prediction)"
      ],
      "metadata": {
        "id": "q7To0y0W1Ooh",
        "colab": {
          "base_uri": "https://localhost:8080/"
        },
        "outputId": "4ba8d91a-0e6f-4c89-a3c4-5a2b2da6cea4"
      },
      "execution_count": 80,
      "outputs": [
        {
          "output_type": "execute_result",
          "data": {
            "text/plain": [
              "8.526512829121202e-15"
            ]
          },
          "metadata": {},
          "execution_count": 80
        }
      ]
    },
    {
      "cell_type": "markdown",
      "source": [
        "# **DISCUSSION**\n",
        "\n",
        "The model contains positive coefficients as shown above this indicates that there is a direct relationship between dependent and predictor variables since coefficients indicate change in dependent variable for a one unit change in the predictor.\n",
        "\n",
        "The model is a best fit since we have an r-squared of 1.R-squared shows the proportion of variance in dependent variable explained by the predictors.\n",
        "\n",
        "The mean squared error of the model is 125 while the mean squared error through cross validation is 6.This indicates a better predictive accuracy since cross validation describes how well the model performs on unseen data.\n",
        "\n",
        "\n"
      ],
      "metadata": {
        "id": "swckg3pWj8rx"
      }
    },
    {
      "cell_type": "markdown",
      "source": [
        "# **CONCLUSION**\n",
        "\n",
        "The regression model exhibits excellent performance in terms of accuracy and generalization, as evidenced by both the learning curves and the actual vs. predicted plot. The model effectively balances bias and variance, making it a reliable predictor for this dataset."
      ],
      "metadata": {
        "id": "-hxl3Gp8smPS"
      }
    }
  ]
}